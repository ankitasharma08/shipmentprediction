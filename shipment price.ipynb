{
 "cells": [
  {
   "cell_type": "code",
   "execution_count": 251,
   "metadata": {},
   "outputs": [],
   "source": [
    "import numpy as np \n",
    "import pandas as pd\n",
    "import matplotlib.pyplot as plt\n",
    "import seaborn as sns\n",
    "sns.set()"
   ]
  },
  {
   "cell_type": "code",
   "execution_count": 252,
   "metadata": {},
   "outputs": [
    {
     "data": {
      "text/html": [
       "<div>\n",
       "<style scoped>\n",
       "    .dataframe tbody tr th:only-of-type {\n",
       "        vertical-align: middle;\n",
       "    }\n",
       "\n",
       "    .dataframe tbody tr th {\n",
       "        vertical-align: top;\n",
       "    }\n",
       "\n",
       "    .dataframe thead th {\n",
       "        text-align: right;\n",
       "    }\n",
       "</style>\n",
       "<table border=\"1\" class=\"dataframe\">\n",
       "  <thead>\n",
       "    <tr style=\"text-align: right;\">\n",
       "      <th></th>\n",
       "      <th>sourceCity</th>\n",
       "      <th>sourceCountry</th>\n",
       "      <th>destinationCity</th>\n",
       "      <th>destinationCountry</th>\n",
       "      <th>truckType</th>\n",
       "      <th>perAssignmentPrice</th>\n",
       "      <th>Start Date</th>\n",
       "      <th>Week</th>\n",
       "    </tr>\n",
       "  </thead>\n",
       "  <tbody>\n",
       "    <tr>\n",
       "      <td>0</td>\n",
       "      <td>Riyadh</td>\n",
       "      <td>KSA</td>\n",
       "      <td>Riyadh</td>\n",
       "      <td>KSA</td>\n",
       "      <td>21</td>\n",
       "      <td>800.0</td>\n",
       "      <td>2020-07-01</td>\n",
       "      <td>4</td>\n",
       "    </tr>\n",
       "    <tr>\n",
       "      <td>1</td>\n",
       "      <td>Riyadh</td>\n",
       "      <td>KSA</td>\n",
       "      <td>Riyadh</td>\n",
       "      <td>KSA</td>\n",
       "      <td>21</td>\n",
       "      <td>330.0</td>\n",
       "      <td>2020-06-30</td>\n",
       "      <td>3</td>\n",
       "    </tr>\n",
       "    <tr>\n",
       "      <td>2</td>\n",
       "      <td>Riyadh</td>\n",
       "      <td>KSA</td>\n",
       "      <td>Riyadh</td>\n",
       "      <td>KSA</td>\n",
       "      <td>21</td>\n",
       "      <td>120.0</td>\n",
       "      <td>2020-09-14</td>\n",
       "      <td>2</td>\n",
       "    </tr>\n",
       "    <tr>\n",
       "      <td>3</td>\n",
       "      <td>Tiles Plant 2</td>\n",
       "      <td>KSA</td>\n",
       "      <td>Amajiah</td>\n",
       "      <td>KSA</td>\n",
       "      <td>21</td>\n",
       "      <td>120.0</td>\n",
       "      <td>2020-06-03</td>\n",
       "      <td>4</td>\n",
       "    </tr>\n",
       "    <tr>\n",
       "      <td>4</td>\n",
       "      <td>Jeddah</td>\n",
       "      <td>KSA</td>\n",
       "      <td>Dubai</td>\n",
       "      <td>UAE</td>\n",
       "      <td>21</td>\n",
       "      <td>1900.0</td>\n",
       "      <td>2020-10-05</td>\n",
       "      <td>2</td>\n",
       "    </tr>\n",
       "  </tbody>\n",
       "</table>\n",
       "</div>"
      ],
      "text/plain": [
       "      sourceCity sourceCountry destinationCity destinationCountry  truckType  \\\n",
       "0         Riyadh           KSA          Riyadh                KSA         21   \n",
       "1         Riyadh           KSA          Riyadh                KSA         21   \n",
       "2         Riyadh           KSA          Riyadh                KSA         21   \n",
       "3  Tiles Plant 2           KSA         Amajiah                KSA         21   \n",
       "4         Jeddah           KSA           Dubai                UAE         21   \n",
       "\n",
       "   perAssignmentPrice  Start Date  Week  \n",
       "0               800.0  2020-07-01     4  \n",
       "1               330.0  2020-06-30     3  \n",
       "2               120.0  2020-09-14     2  \n",
       "3               120.0  2020-06-03     4  \n",
       "4              1900.0  2020-10-05     2  "
      ]
     },
     "execution_count": 252,
     "metadata": {},
     "output_type": "execute_result"
    }
   ],
   "source": [
    "train_data = pd.read_csv(\"train.csv\")\n",
    "train_data.head()"
   ]
  },
  {
   "cell_type": "code",
   "execution_count": 253,
   "metadata": {},
   "outputs": [
    {
     "data": {
      "text/plain": [
       "(7984, 8)"
      ]
     },
     "execution_count": 253,
     "metadata": {},
     "output_type": "execute_result"
    }
   ],
   "source": [
    "train_data.shape"
   ]
  },
  {
   "cell_type": "code",
   "execution_count": null,
   "metadata": {},
   "outputs": [],
   "source": []
  },
  {
   "cell_type": "code",
   "execution_count": 254,
   "metadata": {},
   "outputs": [
    {
     "data": {
      "text/html": [
       "<div>\n",
       "<style scoped>\n",
       "    .dataframe tbody tr th:only-of-type {\n",
       "        vertical-align: middle;\n",
       "    }\n",
       "\n",
       "    .dataframe tbody tr th {\n",
       "        vertical-align: top;\n",
       "    }\n",
       "\n",
       "    .dataframe thead th {\n",
       "        text-align: right;\n",
       "    }\n",
       "</style>\n",
       "<table border=\"1\" class=\"dataframe\">\n",
       "  <thead>\n",
       "    <tr style=\"text-align: right;\">\n",
       "      <th></th>\n",
       "      <th>sourceCity</th>\n",
       "      <th>sourceCountry</th>\n",
       "      <th>destinationCity</th>\n",
       "      <th>destinationCountry</th>\n",
       "      <th>truckType</th>\n",
       "      <th>perAssignmentPrice</th>\n",
       "      <th>Start Date</th>\n",
       "      <th>Week</th>\n",
       "      <th>Shipment_day</th>\n",
       "      <th>Shipment_week</th>\n",
       "      <th>Shipment_month</th>\n",
       "    </tr>\n",
       "  </thead>\n",
       "  <tbody>\n",
       "    <tr>\n",
       "      <td>0</td>\n",
       "      <td>Riyadh</td>\n",
       "      <td>KSA</td>\n",
       "      <td>Riyadh</td>\n",
       "      <td>KSA</td>\n",
       "      <td>21</td>\n",
       "      <td>800.0</td>\n",
       "      <td>2020-07-01</td>\n",
       "      <td>4</td>\n",
       "      <td>1</td>\n",
       "      <td>2</td>\n",
       "      <td>7</td>\n",
       "    </tr>\n",
       "    <tr>\n",
       "      <td>1</td>\n",
       "      <td>Riyadh</td>\n",
       "      <td>KSA</td>\n",
       "      <td>Riyadh</td>\n",
       "      <td>KSA</td>\n",
       "      <td>21</td>\n",
       "      <td>330.0</td>\n",
       "      <td>2020-06-30</td>\n",
       "      <td>3</td>\n",
       "      <td>30</td>\n",
       "      <td>1</td>\n",
       "      <td>6</td>\n",
       "    </tr>\n",
       "    <tr>\n",
       "      <td>2</td>\n",
       "      <td>Riyadh</td>\n",
       "      <td>KSA</td>\n",
       "      <td>Riyadh</td>\n",
       "      <td>KSA</td>\n",
       "      <td>21</td>\n",
       "      <td>120.0</td>\n",
       "      <td>2020-09-14</td>\n",
       "      <td>2</td>\n",
       "      <td>14</td>\n",
       "      <td>0</td>\n",
       "      <td>9</td>\n",
       "    </tr>\n",
       "    <tr>\n",
       "      <td>3</td>\n",
       "      <td>Tiles Plant 2</td>\n",
       "      <td>KSA</td>\n",
       "      <td>Amajiah</td>\n",
       "      <td>KSA</td>\n",
       "      <td>21</td>\n",
       "      <td>120.0</td>\n",
       "      <td>2020-06-03</td>\n",
       "      <td>4</td>\n",
       "      <td>3</td>\n",
       "      <td>2</td>\n",
       "      <td>6</td>\n",
       "    </tr>\n",
       "    <tr>\n",
       "      <td>4</td>\n",
       "      <td>Jeddah</td>\n",
       "      <td>KSA</td>\n",
       "      <td>Dubai</td>\n",
       "      <td>UAE</td>\n",
       "      <td>21</td>\n",
       "      <td>1900.0</td>\n",
       "      <td>2020-10-05</td>\n",
       "      <td>2</td>\n",
       "      <td>5</td>\n",
       "      <td>0</td>\n",
       "      <td>10</td>\n",
       "    </tr>\n",
       "  </tbody>\n",
       "</table>\n",
       "</div>"
      ],
      "text/plain": [
       "      sourceCity sourceCountry destinationCity destinationCountry  truckType  \\\n",
       "0         Riyadh           KSA          Riyadh                KSA         21   \n",
       "1         Riyadh           KSA          Riyadh                KSA         21   \n",
       "2         Riyadh           KSA          Riyadh                KSA         21   \n",
       "3  Tiles Plant 2           KSA         Amajiah                KSA         21   \n",
       "4         Jeddah           KSA           Dubai                UAE         21   \n",
       "\n",
       "   perAssignmentPrice  Start Date  Week  Shipment_day  Shipment_week  \\\n",
       "0               800.0  2020-07-01     4             1              2   \n",
       "1               330.0  2020-06-30     3            30              1   \n",
       "2               120.0  2020-09-14     2            14              0   \n",
       "3               120.0  2020-06-03     4             3              2   \n",
       "4              1900.0  2020-10-05     2             5              0   \n",
       "\n",
       "   Shipment_month  \n",
       "0               7  \n",
       "1               6  \n",
       "2               9  \n",
       "3               6  \n",
       "4              10  "
      ]
     },
     "execution_count": 254,
     "metadata": {},
     "output_type": "execute_result"
    }
   ],
   "source": [
    "train_data[\"Shipment_day\"]=pd.to_datetime(train_data[\"Start Date\"],format = \"%Y-%m-%d\").dt.day\n",
    "train_data[\"Shipment_week\"]=pd.to_datetime(train_data[\"Start Date\"],format = \"%Y-%m-%d\").dt.dayofweek\n",
    "train_data[\"Shipment_month\"]=pd.to_datetime(train_data[\"Start Date\"],format = \"%Y-%m-%d\").dt.month\n",
    "\n",
    "train_data.head()"
   ]
  },
  {
   "cell_type": "code",
   "execution_count": 255,
   "metadata": {},
   "outputs": [],
   "source": [
    "train_data.drop([\"Start Date\"], axis = 1,inplace = True)\n",
    "train_data.drop([\"Week\"], axis = 1,inplace = True)"
   ]
  },
  {
   "cell_type": "code",
   "execution_count": 256,
   "metadata": {},
   "outputs": [],
   "source": [
    "train_data.drop([\"sourceCountry\"], axis = 1,inplace = True)"
   ]
  },
  {
   "cell_type": "code",
   "execution_count": 257,
   "metadata": {},
   "outputs": [
    {
     "data": {
      "text/html": [
       "<div>\n",
       "<style scoped>\n",
       "    .dataframe tbody tr th:only-of-type {\n",
       "        vertical-align: middle;\n",
       "    }\n",
       "\n",
       "    .dataframe tbody tr th {\n",
       "        vertical-align: top;\n",
       "    }\n",
       "\n",
       "    .dataframe thead th {\n",
       "        text-align: right;\n",
       "    }\n",
       "</style>\n",
       "<table border=\"1\" class=\"dataframe\">\n",
       "  <thead>\n",
       "    <tr style=\"text-align: right;\">\n",
       "      <th></th>\n",
       "      <th>sourceCity</th>\n",
       "      <th>destinationCity</th>\n",
       "      <th>destinationCountry</th>\n",
       "      <th>truckType</th>\n",
       "      <th>perAssignmentPrice</th>\n",
       "      <th>Shipment_day</th>\n",
       "      <th>Shipment_week</th>\n",
       "      <th>Shipment_month</th>\n",
       "    </tr>\n",
       "  </thead>\n",
       "  <tbody>\n",
       "    <tr>\n",
       "      <td>0</td>\n",
       "      <td>Riyadh</td>\n",
       "      <td>Riyadh</td>\n",
       "      <td>KSA</td>\n",
       "      <td>21</td>\n",
       "      <td>800.0</td>\n",
       "      <td>1</td>\n",
       "      <td>2</td>\n",
       "      <td>7</td>\n",
       "    </tr>\n",
       "    <tr>\n",
       "      <td>1</td>\n",
       "      <td>Riyadh</td>\n",
       "      <td>Riyadh</td>\n",
       "      <td>KSA</td>\n",
       "      <td>21</td>\n",
       "      <td>330.0</td>\n",
       "      <td>30</td>\n",
       "      <td>1</td>\n",
       "      <td>6</td>\n",
       "    </tr>\n",
       "    <tr>\n",
       "      <td>2</td>\n",
       "      <td>Riyadh</td>\n",
       "      <td>Riyadh</td>\n",
       "      <td>KSA</td>\n",
       "      <td>21</td>\n",
       "      <td>120.0</td>\n",
       "      <td>14</td>\n",
       "      <td>0</td>\n",
       "      <td>9</td>\n",
       "    </tr>\n",
       "    <tr>\n",
       "      <td>3</td>\n",
       "      <td>Tiles Plant 2</td>\n",
       "      <td>Amajiah</td>\n",
       "      <td>KSA</td>\n",
       "      <td>21</td>\n",
       "      <td>120.0</td>\n",
       "      <td>3</td>\n",
       "      <td>2</td>\n",
       "      <td>6</td>\n",
       "    </tr>\n",
       "    <tr>\n",
       "      <td>4</td>\n",
       "      <td>Jeddah</td>\n",
       "      <td>Dubai</td>\n",
       "      <td>UAE</td>\n",
       "      <td>21</td>\n",
       "      <td>1900.0</td>\n",
       "      <td>5</td>\n",
       "      <td>0</td>\n",
       "      <td>10</td>\n",
       "    </tr>\n",
       "  </tbody>\n",
       "</table>\n",
       "</div>"
      ],
      "text/plain": [
       "      sourceCity destinationCity destinationCountry  truckType  \\\n",
       "0         Riyadh          Riyadh                KSA         21   \n",
       "1         Riyadh          Riyadh                KSA         21   \n",
       "2         Riyadh          Riyadh                KSA         21   \n",
       "3  Tiles Plant 2         Amajiah                KSA         21   \n",
       "4         Jeddah           Dubai                UAE         21   \n",
       "\n",
       "   perAssignmentPrice  Shipment_day  Shipment_week  Shipment_month  \n",
       "0               800.0             1              2               7  \n",
       "1               330.0            30              1               6  \n",
       "2               120.0            14              0               9  \n",
       "3               120.0             3              2               6  \n",
       "4              1900.0             5              0              10  "
      ]
     },
     "execution_count": 257,
     "metadata": {},
     "output_type": "execute_result"
    }
   ],
   "source": [
    "train_data.head()"
   ]
  },
  {
   "cell_type": "code",
   "execution_count": 258,
   "metadata": {},
   "outputs": [],
   "source": [
    "train_data.drop(train_data[train_data['destinationCountry'] == \"ksa\"].index, inplace = True) \n",
    "train_data.drop(train_data[train_data['destinationCity'] == \"Amajiah  \"].index, inplace = True) \n"
   ]
  },
  {
   "cell_type": "code",
   "execution_count": 259,
   "metadata": {},
   "outputs": [
    {
     "data": {
      "text/plain": [
       "KSA        6902\n",
       "UAE         892\n",
       "Kuwait      111\n",
       "Bahrain      66\n",
       "Name: destinationCountry, dtype: int64"
      ]
     },
     "execution_count": 259,
     "metadata": {},
     "output_type": "execute_result"
    }
   ],
   "source": [
    "train_data[\"destinationCountry\"].value_counts()\n"
   ]
  },
  {
   "cell_type": "code",
   "execution_count": 260,
   "metadata": {},
   "outputs": [
    {
     "data": {
      "text/plain": [
       "21    7601\n",
       "22     276\n",
       "4       61\n",
       "1       10\n",
       "19       9\n",
       "23       7\n",
       "3        2\n",
       "18       2\n",
       "24       2\n",
       "17       1\n",
       "Name: truckType, dtype: int64"
      ]
     },
     "execution_count": 260,
     "metadata": {},
     "output_type": "execute_result"
    }
   ],
   "source": [
    "train_data[\"truckType\"].value_counts()\n"
   ]
  },
  {
   "cell_type": "code",
   "execution_count": 261,
   "metadata": {},
   "outputs": [
    {
     "data": {
      "text/plain": [
       "Riyadh            2458\n",
       "Amajiah           1135\n",
       "Dubai              772\n",
       "Ad Diriyah         426\n",
       "Jeddah             417\n",
       "Dammam             401\n",
       "Taif               325\n",
       "Hail               317\n",
       "Al Rashid          253\n",
       "Hafar Al Batin     218\n",
       "Buraydah           200\n",
       "Al Hofuf           182\n",
       "Tabuk              140\n",
       "Abu Dhabi          121\n",
       "Kuwait             117\n",
       "Medina              97\n",
       "Al Khobar           97\n",
       "Al Duwadimi         85\n",
       "Bahrain             83\n",
       "Al Jubail           67\n",
       "Tammamah            60\n",
       "Name: destinationCity, dtype: int64"
      ]
     },
     "execution_count": 261,
     "metadata": {},
     "output_type": "execute_result"
    }
   ],
   "source": [
    "train_data[\"destinationCity\"].value_counts()"
   ]
  },
  {
   "cell_type": "code",
   "execution_count": 262,
   "metadata": {},
   "outputs": [
    {
     "data": {
      "text/plain": [
       "Riyadh           5250\n",
       "Tiles Plant 2    1695\n",
       "Jeddah            710\n",
       "Al Jubail         233\n",
       "Dammam             83\n",
       "Name: sourceCity, dtype: int64"
      ]
     },
     "execution_count": 262,
     "metadata": {},
     "output_type": "execute_result"
    }
   ],
   "source": [
    "train_data[\"sourceCity\"].value_counts()"
   ]
  },
  {
   "cell_type": "code",
   "execution_count": 263,
   "metadata": {},
   "outputs": [
    {
     "data": {
      "text/plain": [
       "<seaborn.axisgrid.FacetGrid at 0x291c2069f48>"
      ]
     },
     "execution_count": 263,
     "metadata": {},
     "output_type": "execute_result"
    },
    {
     "data": {
      "image/png": "[encoded data removed]",
      "text/plain": [
       "<Figure size 1296x432 with 1 Axes>"
      ]
     },
     "metadata": {},
     "output_type": "display_data"
    }
   ],
   "source": [
    "sns.catplot(y=\"perAssignmentPrice\",x=\"destinationCity\",data= train_data.sort_values(\"perAssignmentPrice\", ascending = False),kind=\"boxen\",height=6, aspect = 3) "
   ]
  },
  {
   "cell_type": "code",
   "execution_count": 264,
   "metadata": {},
   "outputs": [
    {
     "data": {
      "text/plain": [
       "Index(['destinationCity_Ad Diriyah', 'destinationCity_Al Duwadimi',\n",
       "       'destinationCity_Al Hofuf', 'destinationCity_Al Jubail',\n",
       "       'destinationCity_Al Khobar', 'destinationCity_Al Rashid',\n",
       "       'destinationCity_Amajiah', 'destinationCity_Bahrain',\n",
       "       'destinationCity_Buraydah', 'destinationCity_Dammam',\n",
       "       'destinationCity_Dubai', 'destinationCity_Hafar Al Batin',\n",
       "       'destinationCity_Hail', 'destinationCity_Jeddah',\n",
       "       'destinationCity_Kuwait', 'destinationCity_Medina',\n",
       "       'destinationCity_Riyadh', 'destinationCity_Tabuk',\n",
       "       'destinationCity_Taif', 'destinationCity_Tammamah'],\n",
       "      dtype='object')"
      ]
     },
     "execution_count": 264,
     "metadata": {},
     "output_type": "execute_result"
    }
   ],
   "source": [
    "#oneHotEncoding\n",
    "\n",
    "destinationCity = train_data[[\"destinationCity\"]]\n",
    "destinationCity  = pd.get_dummies(destinationCity,drop_first= True)\n",
    "destinationCity.head()\n",
    "#abudhabidroped\n",
    "destinationCity.columns"
   ]
  },
  {
   "cell_type": "code",
   "execution_count": 265,
   "metadata": {},
   "outputs": [
    {
     "data": {
      "text/html": [
       "<div>\n",
       "<style scoped>\n",
       "    .dataframe tbody tr th:only-of-type {\n",
       "        vertical-align: middle;\n",
       "    }\n",
       "\n",
       "    .dataframe tbody tr th {\n",
       "        vertical-align: top;\n",
       "    }\n",
       "\n",
       "    .dataframe thead th {\n",
       "        text-align: right;\n",
       "    }\n",
       "</style>\n",
       "<table border=\"1\" class=\"dataframe\">\n",
       "  <thead>\n",
       "    <tr style=\"text-align: right;\">\n",
       "      <th></th>\n",
       "      <th>destinationCountry_KSA</th>\n",
       "      <th>destinationCountry_Kuwait</th>\n",
       "      <th>destinationCountry_UAE</th>\n",
       "    </tr>\n",
       "  </thead>\n",
       "  <tbody>\n",
       "    <tr>\n",
       "      <td>0</td>\n",
       "      <td>1</td>\n",
       "      <td>0</td>\n",
       "      <td>0</td>\n",
       "    </tr>\n",
       "    <tr>\n",
       "      <td>1</td>\n",
       "      <td>1</td>\n",
       "      <td>0</td>\n",
       "      <td>0</td>\n",
       "    </tr>\n",
       "    <tr>\n",
       "      <td>2</td>\n",
       "      <td>1</td>\n",
       "      <td>0</td>\n",
       "      <td>0</td>\n",
       "    </tr>\n",
       "    <tr>\n",
       "      <td>3</td>\n",
       "      <td>1</td>\n",
       "      <td>0</td>\n",
       "      <td>0</td>\n",
       "    </tr>\n",
       "    <tr>\n",
       "      <td>4</td>\n",
       "      <td>0</td>\n",
       "      <td>0</td>\n",
       "      <td>1</td>\n",
       "    </tr>\n",
       "  </tbody>\n",
       "</table>\n",
       "</div>"
      ],
      "text/plain": [
       "   destinationCountry_KSA  destinationCountry_Kuwait  destinationCountry_UAE\n",
       "0                       1                          0                       0\n",
       "1                       1                          0                       0\n",
       "2                       1                          0                       0\n",
       "3                       1                          0                       0\n",
       "4                       0                          0                       1"
      ]
     },
     "execution_count": 265,
     "metadata": {},
     "output_type": "execute_result"
    }
   ],
   "source": [
    "#oneHotEncoding\n",
    "\n",
    "destinationCountry = train_data[[\"destinationCountry\"]]\n",
    "destinationCountry  = pd.get_dummies(destinationCountry,drop_first= True)\n",
    "destinationCountry.head()\n",
    "#Bahrain\n"
   ]
  },
  {
   "cell_type": "code",
   "execution_count": 266,
   "metadata": {},
   "outputs": [
    {
     "data": {
      "text/html": [
       "<div>\n",
       "<style scoped>\n",
       "    .dataframe tbody tr th:only-of-type {\n",
       "        vertical-align: middle;\n",
       "    }\n",
       "\n",
       "    .dataframe tbody tr th {\n",
       "        vertical-align: top;\n",
       "    }\n",
       "\n",
       "    .dataframe thead th {\n",
       "        text-align: right;\n",
       "    }\n",
       "</style>\n",
       "<table border=\"1\" class=\"dataframe\">\n",
       "  <thead>\n",
       "    <tr style=\"text-align: right;\">\n",
       "      <th></th>\n",
       "      <th>sourceCity_Dammam</th>\n",
       "      <th>sourceCity_Jeddah</th>\n",
       "      <th>sourceCity_Riyadh</th>\n",
       "      <th>sourceCity_Tiles Plant 2</th>\n",
       "    </tr>\n",
       "  </thead>\n",
       "  <tbody>\n",
       "    <tr>\n",
       "      <td>0</td>\n",
       "      <td>0</td>\n",
       "      <td>0</td>\n",
       "      <td>1</td>\n",
       "      <td>0</td>\n",
       "    </tr>\n",
       "    <tr>\n",
       "      <td>1</td>\n",
       "      <td>0</td>\n",
       "      <td>0</td>\n",
       "      <td>1</td>\n",
       "      <td>0</td>\n",
       "    </tr>\n",
       "    <tr>\n",
       "      <td>2</td>\n",
       "      <td>0</td>\n",
       "      <td>0</td>\n",
       "      <td>1</td>\n",
       "      <td>0</td>\n",
       "    </tr>\n",
       "    <tr>\n",
       "      <td>3</td>\n",
       "      <td>0</td>\n",
       "      <td>0</td>\n",
       "      <td>0</td>\n",
       "      <td>1</td>\n",
       "    </tr>\n",
       "    <tr>\n",
       "      <td>4</td>\n",
       "      <td>0</td>\n",
       "      <td>1</td>\n",
       "      <td>0</td>\n",
       "      <td>0</td>\n",
       "    </tr>\n",
       "  </tbody>\n",
       "</table>\n",
       "</div>"
      ],
      "text/plain": [
       "   sourceCity_Dammam  sourceCity_Jeddah  sourceCity_Riyadh  \\\n",
       "0                  0                  0                  1   \n",
       "1                  0                  0                  1   \n",
       "2                  0                  0                  1   \n",
       "3                  0                  0                  0   \n",
       "4                  0                  1                  0   \n",
       "\n",
       "   sourceCity_Tiles Plant 2  \n",
       "0                         0  \n",
       "1                         0  \n",
       "2                         0  \n",
       "3                         1  \n",
       "4                         0  "
      ]
     },
     "execution_count": 266,
     "metadata": {},
     "output_type": "execute_result"
    }
   ],
   "source": [
    "#oneHotEncoding\n",
    "\n",
    "sourceCity = train_data[[\"sourceCity\"]]\n",
    "sourceCity  = pd.get_dummies(sourceCity,drop_first= True)\n",
    "sourceCity.head()\n",
    "#Al Jubail \n"
   ]
  },
  {
   "cell_type": "code",
   "execution_count": 267,
   "metadata": {},
   "outputs": [
    {
     "data": {
      "text/html": [
       "<div>\n",
       "<style scoped>\n",
       "    .dataframe tbody tr th:only-of-type {\n",
       "        vertical-align: middle;\n",
       "    }\n",
       "\n",
       "    .dataframe tbody tr th {\n",
       "        vertical-align: top;\n",
       "    }\n",
       "\n",
       "    .dataframe thead th {\n",
       "        text-align: right;\n",
       "    }\n",
       "</style>\n",
       "<table border=\"1\" class=\"dataframe\">\n",
       "  <thead>\n",
       "    <tr style=\"text-align: right;\">\n",
       "      <th></th>\n",
       "      <th>sourceCity</th>\n",
       "      <th>destinationCity</th>\n",
       "      <th>destinationCountry</th>\n",
       "      <th>truckType</th>\n",
       "      <th>perAssignmentPrice</th>\n",
       "      <th>Shipment_day</th>\n",
       "      <th>Shipment_week</th>\n",
       "      <th>Shipment_month</th>\n",
       "      <th>destinationCity_Ad Diriyah</th>\n",
       "      <th>destinationCity_Al Duwadimi</th>\n",
       "      <th>...</th>\n",
       "      <th>destinationCity_Tabuk</th>\n",
       "      <th>destinationCity_Taif</th>\n",
       "      <th>destinationCity_Tammamah</th>\n",
       "      <th>destinationCountry_KSA</th>\n",
       "      <th>destinationCountry_Kuwait</th>\n",
       "      <th>destinationCountry_UAE</th>\n",
       "      <th>sourceCity_Dammam</th>\n",
       "      <th>sourceCity_Jeddah</th>\n",
       "      <th>sourceCity_Riyadh</th>\n",
       "      <th>sourceCity_Tiles Plant 2</th>\n",
       "    </tr>\n",
       "  </thead>\n",
       "  <tbody>\n",
       "    <tr>\n",
       "      <td>0</td>\n",
       "      <td>Riyadh</td>\n",
       "      <td>Riyadh</td>\n",
       "      <td>KSA</td>\n",
       "      <td>21</td>\n",
       "      <td>800.0</td>\n",
       "      <td>1</td>\n",
       "      <td>2</td>\n",
       "      <td>7</td>\n",
       "      <td>0</td>\n",
       "      <td>0</td>\n",
       "      <td>...</td>\n",
       "      <td>0</td>\n",
       "      <td>0</td>\n",
       "      <td>0</td>\n",
       "      <td>1</td>\n",
       "      <td>0</td>\n",
       "      <td>0</td>\n",
       "      <td>0</td>\n",
       "      <td>0</td>\n",
       "      <td>1</td>\n",
       "      <td>0</td>\n",
       "    </tr>\n",
       "    <tr>\n",
       "      <td>1</td>\n",
       "      <td>Riyadh</td>\n",
       "      <td>Riyadh</td>\n",
       "      <td>KSA</td>\n",
       "      <td>21</td>\n",
       "      <td>330.0</td>\n",
       "      <td>30</td>\n",
       "      <td>1</td>\n",
       "      <td>6</td>\n",
       "      <td>0</td>\n",
       "      <td>0</td>\n",
       "      <td>...</td>\n",
       "      <td>0</td>\n",
       "      <td>0</td>\n",
       "      <td>0</td>\n",
       "      <td>1</td>\n",
       "      <td>0</td>\n",
       "      <td>0</td>\n",
       "      <td>0</td>\n",
       "      <td>0</td>\n",
       "      <td>1</td>\n",
       "      <td>0</td>\n",
       "    </tr>\n",
       "    <tr>\n",
       "      <td>2</td>\n",
       "      <td>Riyadh</td>\n",
       "      <td>Riyadh</td>\n",
       "      <td>KSA</td>\n",
       "      <td>21</td>\n",
       "      <td>120.0</td>\n",
       "      <td>14</td>\n",
       "      <td>0</td>\n",
       "      <td>9</td>\n",
       "      <td>0</td>\n",
       "      <td>0</td>\n",
       "      <td>...</td>\n",
       "      <td>0</td>\n",
       "      <td>0</td>\n",
       "      <td>0</td>\n",
       "      <td>1</td>\n",
       "      <td>0</td>\n",
       "      <td>0</td>\n",
       "      <td>0</td>\n",
       "      <td>0</td>\n",
       "      <td>1</td>\n",
       "      <td>0</td>\n",
       "    </tr>\n",
       "    <tr>\n",
       "      <td>3</td>\n",
       "      <td>Tiles Plant 2</td>\n",
       "      <td>Amajiah</td>\n",
       "      <td>KSA</td>\n",
       "      <td>21</td>\n",
       "      <td>120.0</td>\n",
       "      <td>3</td>\n",
       "      <td>2</td>\n",
       "      <td>6</td>\n",
       "      <td>0</td>\n",
       "      <td>0</td>\n",
       "      <td>...</td>\n",
       "      <td>0</td>\n",
       "      <td>0</td>\n",
       "      <td>0</td>\n",
       "      <td>1</td>\n",
       "      <td>0</td>\n",
       "      <td>0</td>\n",
       "      <td>0</td>\n",
       "      <td>0</td>\n",
       "      <td>0</td>\n",
       "      <td>1</td>\n",
       "    </tr>\n",
       "    <tr>\n",
       "      <td>4</td>\n",
       "      <td>Jeddah</td>\n",
       "      <td>Dubai</td>\n",
       "      <td>UAE</td>\n",
       "      <td>21</td>\n",
       "      <td>1900.0</td>\n",
       "      <td>5</td>\n",
       "      <td>0</td>\n",
       "      <td>10</td>\n",
       "      <td>0</td>\n",
       "      <td>0</td>\n",
       "      <td>...</td>\n",
       "      <td>0</td>\n",
       "      <td>0</td>\n",
       "      <td>0</td>\n",
       "      <td>0</td>\n",
       "      <td>0</td>\n",
       "      <td>1</td>\n",
       "      <td>0</td>\n",
       "      <td>1</td>\n",
       "      <td>0</td>\n",
       "      <td>0</td>\n",
       "    </tr>\n",
       "  </tbody>\n",
       "</table>\n",
       "<p>5 rows × 35 columns</p>\n",
       "</div>"
      ],
      "text/plain": [
       "      sourceCity destinationCity destinationCountry  truckType  \\\n",
       "0         Riyadh          Riyadh                KSA         21   \n",
       "1         Riyadh          Riyadh                KSA         21   \n",
       "2         Riyadh          Riyadh                KSA         21   \n",
       "3  Tiles Plant 2         Amajiah                KSA         21   \n",
       "4         Jeddah           Dubai                UAE         21   \n",
       "\n",
       "   perAssignmentPrice  Shipment_day  Shipment_week  Shipment_month  \\\n",
       "0               800.0             1              2               7   \n",
       "1               330.0            30              1               6   \n",
       "2               120.0            14              0               9   \n",
       "3               120.0             3              2               6   \n",
       "4              1900.0             5              0              10   \n",
       "\n",
       "   destinationCity_Ad Diriyah  destinationCity_Al Duwadimi  ...  \\\n",
       "0                           0                            0  ...   \n",
       "1                           0                            0  ...   \n",
       "2                           0                            0  ...   \n",
       "3                           0                            0  ...   \n",
       "4                           0                            0  ...   \n",
       "\n",
       "   destinationCity_Tabuk  destinationCity_Taif  destinationCity_Tammamah  \\\n",
       "0                      0                     0                         0   \n",
       "1                      0                     0                         0   \n",
       "2                      0                     0                         0   \n",
       "3                      0                     0                         0   \n",
       "4                      0                     0                         0   \n",
       "\n",
       "   destinationCountry_KSA  destinationCountry_Kuwait  destinationCountry_UAE  \\\n",
       "0                       1                          0                       0   \n",
       "1                       1                          0                       0   \n",
       "2                       1                          0                       0   \n",
       "3                       1                          0                       0   \n",
       "4                       0                          0                       1   \n",
       "\n",
       "   sourceCity_Dammam  sourceCity_Jeddah  sourceCity_Riyadh  \\\n",
       "0                  0                  0                  1   \n",
       "1                  0                  0                  1   \n",
       "2                  0                  0                  1   \n",
       "3                  0                  0                  0   \n",
       "4                  0                  1                  0   \n",
       "\n",
       "   sourceCity_Tiles Plant 2  \n",
       "0                         0  \n",
       "1                         0  \n",
       "2                         0  \n",
       "3                         1  \n",
       "4                         0  \n",
       "\n",
       "[5 rows x 35 columns]"
      ]
     },
     "execution_count": 267,
     "metadata": {},
     "output_type": "execute_result"
    }
   ],
   "source": [
    "data_train = pd.concat([train_data , destinationCity ], axis =1)\n",
    "data_train = pd.concat([data_train , destinationCountry,sourceCity ], axis =1)\n",
    "data_train.head()"
   ]
  },
  {
   "cell_type": "code",
   "execution_count": 268,
   "metadata": {},
   "outputs": [],
   "source": [
    "data_train.drop([\"sourceCity\"], axis = 1,inplace = True)\n",
    "data_train.drop([\"destinationCity\"], axis = 1,inplace = True)\n",
    "data_train.drop([\"destinationCountry\"], axis = 1,inplace = True)\n"
   ]
  },
  {
   "cell_type": "code",
   "execution_count": 269,
   "metadata": {},
   "outputs": [
    {
     "data": {
      "text/html": [
       "<div>\n",
       "<style scoped>\n",
       "    .dataframe tbody tr th:only-of-type {\n",
       "        vertical-align: middle;\n",
       "    }\n",
       "\n",
       "    .dataframe tbody tr th {\n",
       "        vertical-align: top;\n",
       "    }\n",
       "\n",
       "    .dataframe thead th {\n",
       "        text-align: right;\n",
       "    }\n",
       "</style>\n",
       "<table border=\"1\" class=\"dataframe\">\n",
       "  <thead>\n",
       "    <tr style=\"text-align: right;\">\n",
       "      <th></th>\n",
       "      <th>truckType</th>\n",
       "      <th>perAssignmentPrice</th>\n",
       "      <th>Shipment_day</th>\n",
       "      <th>Shipment_week</th>\n",
       "      <th>Shipment_month</th>\n",
       "      <th>destinationCity_Ad Diriyah</th>\n",
       "      <th>destinationCity_Al Duwadimi</th>\n",
       "      <th>destinationCity_Al Hofuf</th>\n",
       "      <th>destinationCity_Al Jubail</th>\n",
       "      <th>destinationCity_Al Khobar</th>\n",
       "      <th>...</th>\n",
       "      <th>destinationCity_Tabuk</th>\n",
       "      <th>destinationCity_Taif</th>\n",
       "      <th>destinationCity_Tammamah</th>\n",
       "      <th>destinationCountry_KSA</th>\n",
       "      <th>destinationCountry_Kuwait</th>\n",
       "      <th>destinationCountry_UAE</th>\n",
       "      <th>sourceCity_Dammam</th>\n",
       "      <th>sourceCity_Jeddah</th>\n",
       "      <th>sourceCity_Riyadh</th>\n",
       "      <th>sourceCity_Tiles Plant 2</th>\n",
       "    </tr>\n",
       "  </thead>\n",
       "  <tbody>\n",
       "    <tr>\n",
       "      <td>0</td>\n",
       "      <td>21</td>\n",
       "      <td>800.0</td>\n",
       "      <td>1</td>\n",
       "      <td>2</td>\n",
       "      <td>7</td>\n",
       "      <td>0</td>\n",
       "      <td>0</td>\n",
       "      <td>0</td>\n",
       "      <td>0</td>\n",
       "      <td>0</td>\n",
       "      <td>...</td>\n",
       "      <td>0</td>\n",
       "      <td>0</td>\n",
       "      <td>0</td>\n",
       "      <td>1</td>\n",
       "      <td>0</td>\n",
       "      <td>0</td>\n",
       "      <td>0</td>\n",
       "      <td>0</td>\n",
       "      <td>1</td>\n",
       "      <td>0</td>\n",
       "    </tr>\n",
       "    <tr>\n",
       "      <td>1</td>\n",
       "      <td>21</td>\n",
       "      <td>330.0</td>\n",
       "      <td>30</td>\n",
       "      <td>1</td>\n",
       "      <td>6</td>\n",
       "      <td>0</td>\n",
       "      <td>0</td>\n",
       "      <td>0</td>\n",
       "      <td>0</td>\n",
       "      <td>0</td>\n",
       "      <td>...</td>\n",
       "      <td>0</td>\n",
       "      <td>0</td>\n",
       "      <td>0</td>\n",
       "      <td>1</td>\n",
       "      <td>0</td>\n",
       "      <td>0</td>\n",
       "      <td>0</td>\n",
       "      <td>0</td>\n",
       "      <td>1</td>\n",
       "      <td>0</td>\n",
       "    </tr>\n",
       "    <tr>\n",
       "      <td>2</td>\n",
       "      <td>21</td>\n",
       "      <td>120.0</td>\n",
       "      <td>14</td>\n",
       "      <td>0</td>\n",
       "      <td>9</td>\n",
       "      <td>0</td>\n",
       "      <td>0</td>\n",
       "      <td>0</td>\n",
       "      <td>0</td>\n",
       "      <td>0</td>\n",
       "      <td>...</td>\n",
       "      <td>0</td>\n",
       "      <td>0</td>\n",
       "      <td>0</td>\n",
       "      <td>1</td>\n",
       "      <td>0</td>\n",
       "      <td>0</td>\n",
       "      <td>0</td>\n",
       "      <td>0</td>\n",
       "      <td>1</td>\n",
       "      <td>0</td>\n",
       "    </tr>\n",
       "    <tr>\n",
       "      <td>3</td>\n",
       "      <td>21</td>\n",
       "      <td>120.0</td>\n",
       "      <td>3</td>\n",
       "      <td>2</td>\n",
       "      <td>6</td>\n",
       "      <td>0</td>\n",
       "      <td>0</td>\n",
       "      <td>0</td>\n",
       "      <td>0</td>\n",
       "      <td>0</td>\n",
       "      <td>...</td>\n",
       "      <td>0</td>\n",
       "      <td>0</td>\n",
       "      <td>0</td>\n",
       "      <td>1</td>\n",
       "      <td>0</td>\n",
       "      <td>0</td>\n",
       "      <td>0</td>\n",
       "      <td>0</td>\n",
       "      <td>0</td>\n",
       "      <td>1</td>\n",
       "    </tr>\n",
       "    <tr>\n",
       "      <td>4</td>\n",
       "      <td>21</td>\n",
       "      <td>1900.0</td>\n",
       "      <td>5</td>\n",
       "      <td>0</td>\n",
       "      <td>10</td>\n",
       "      <td>0</td>\n",
       "      <td>0</td>\n",
       "      <td>0</td>\n",
       "      <td>0</td>\n",
       "      <td>0</td>\n",
       "      <td>...</td>\n",
       "      <td>0</td>\n",
       "      <td>0</td>\n",
       "      <td>0</td>\n",
       "      <td>0</td>\n",
       "      <td>0</td>\n",
       "      <td>1</td>\n",
       "      <td>0</td>\n",
       "      <td>1</td>\n",
       "      <td>0</td>\n",
       "      <td>0</td>\n",
       "    </tr>\n",
       "  </tbody>\n",
       "</table>\n",
       "<p>5 rows × 32 columns</p>\n",
       "</div>"
      ],
      "text/plain": [
       "   truckType  perAssignmentPrice  Shipment_day  Shipment_week  Shipment_month  \\\n",
       "0         21               800.0             1              2               7   \n",
       "1         21               330.0            30              1               6   \n",
       "2         21               120.0            14              0               9   \n",
       "3         21               120.0             3              2               6   \n",
       "4         21              1900.0             5              0              10   \n",
       "\n",
       "   destinationCity_Ad Diriyah  destinationCity_Al Duwadimi  \\\n",
       "0                           0                            0   \n",
       "1                           0                            0   \n",
       "2                           0                            0   \n",
       "3                           0                            0   \n",
       "4                           0                            0   \n",
       "\n",
       "   destinationCity_Al Hofuf  destinationCity_Al Jubail  \\\n",
       "0                         0                          0   \n",
       "1                         0                          0   \n",
       "2                         0                          0   \n",
       "3                         0                          0   \n",
       "4                         0                          0   \n",
       "\n",
       "   destinationCity_Al Khobar  ...  destinationCity_Tabuk  \\\n",
       "0                          0  ...                      0   \n",
       "1                          0  ...                      0   \n",
       "2                          0  ...                      0   \n",
       "3                          0  ...                      0   \n",
       "4                          0  ...                      0   \n",
       "\n",
       "   destinationCity_Taif  destinationCity_Tammamah  destinationCountry_KSA  \\\n",
       "0                     0                         0                       1   \n",
       "1                     0                         0                       1   \n",
       "2                     0                         0                       1   \n",
       "3                     0                         0                       1   \n",
       "4                     0                         0                       0   \n",
       "\n",
       "   destinationCountry_Kuwait  destinationCountry_UAE  sourceCity_Dammam  \\\n",
       "0                          0                       0                  0   \n",
       "1                          0                       0                  0   \n",
       "2                          0                       0                  0   \n",
       "3                          0                       0                  0   \n",
       "4                          0                       1                  0   \n",
       "\n",
       "   sourceCity_Jeddah  sourceCity_Riyadh  sourceCity_Tiles Plant 2  \n",
       "0                  0                  1                         0  \n",
       "1                  0                  1                         0  \n",
       "2                  0                  1                         0  \n",
       "3                  0                  0                         1  \n",
       "4                  1                  0                         0  \n",
       "\n",
       "[5 rows x 32 columns]"
      ]
     },
     "execution_count": 269,
     "metadata": {},
     "output_type": "execute_result"
    }
   ],
   "source": [
    "data_train.head()"
   ]
  },
  {
   "cell_type": "code",
   "execution_count": 270,
   "metadata": {},
   "outputs": [],
   "source": [
    "test_data = pd.read_csv(\"test.csv\")\n"
   ]
  },
  {
   "cell_type": "code",
   "execution_count": 271,
   "metadata": {},
   "outputs": [],
   "source": [
    "test_data[\"Shipment_day\"]=pd.to_datetime(test_data[\"Start Date\"],format = \"%Y-%m-%d\").dt.day\n",
    "test_data[\"Shipment_week\"]=pd.to_datetime(test_data[\"Start Date\"],format = \"%Y-%m-%d\").dt.dayofweek\n",
    "test_data[\"Shipment_month\"]=pd.to_datetime(test_data[\"Start Date\"],format = \"%Y-%m-%d\").dt.month"
   ]
  },
  {
   "cell_type": "code",
   "execution_count": 272,
   "metadata": {},
   "outputs": [],
   "source": [
    "test_data.drop([\"Start Date\"], axis = 1,inplace = True)\n",
    "test_data.drop([\"Week\"], axis = 1,inplace = True)\n",
    "test_data.drop([\"sourceCountry\"], axis = 1,inplace = True)"
   ]
  },
  {
   "cell_type": "code",
   "execution_count": 273,
   "metadata": {},
   "outputs": [
    {
     "data": {
      "text/plain": [
       "Riyadh           902\n",
       "Tiles Plant 2    313\n",
       "Jeddah           132\n",
       "Al Jubail         34\n",
       "Dammam            10\n",
       "Name: sourceCity, dtype: int64"
      ]
     },
     "execution_count": 273,
     "metadata": {},
     "output_type": "execute_result"
    }
   ],
   "source": [
    "test_data[\"sourceCity\"].value_counts()\n"
   ]
  },
  {
   "cell_type": "code",
   "execution_count": 274,
   "metadata": {},
   "outputs": [
    {
     "data": {
      "text/plain": [
       "Riyadh           5250\n",
       "Tiles Plant 2    1695\n",
       "Jeddah            710\n",
       "Al Jubail         233\n",
       "Dammam             83\n",
       "Name: sourceCity, dtype: int64"
      ]
     },
     "execution_count": 274,
     "metadata": {},
     "output_type": "execute_result"
    }
   ],
   "source": [
    "train_data[\"sourceCity\"].value_counts()"
   ]
  },
  {
   "cell_type": "code",
   "execution_count": 275,
   "metadata": {},
   "outputs": [],
   "source": [
    "test_data[\"destinationCountry\"].value_counts()\n",
    "test_data.drop(test_data[test_data['destinationCity'] == \"Amajiah  \"].index, inplace = True) \n"
   ]
  },
  {
   "cell_type": "code",
   "execution_count": 276,
   "metadata": {},
   "outputs": [
    {
     "data": {
      "text/plain": [
       "Index(['destinationCity_Ad Diriyah', 'destinationCity_Al Duwadimi',\n",
       "       'destinationCity_Al Hofuf', 'destinationCity_Al Jubail',\n",
       "       'destinationCity_Al Khobar', 'destinationCity_Al Rashid',\n",
       "       'destinationCity_Amajiah', 'destinationCity_Bahrain',\n",
       "       'destinationCity_Buraydah', 'destinationCity_Dammam',\n",
       "       'destinationCity_Dubai', 'destinationCity_Hafar Al Batin',\n",
       "       'destinationCity_Hail', 'destinationCity_Jeddah',\n",
       "       'destinationCity_Kuwait', 'destinationCity_Medina',\n",
       "       'destinationCity_Riyadh', 'destinationCity_Tabuk',\n",
       "       'destinationCity_Taif', 'destinationCity_Tammamah'],\n",
       "      dtype='object')"
      ]
     },
     "execution_count": 276,
     "metadata": {},
     "output_type": "execute_result"
    }
   ],
   "source": [
    "#oneHotEncoding\n",
    "\n",
    "destinationCity = test_data[[\"destinationCity\"]]\n",
    "destinationCity  = pd.get_dummies(destinationCity,drop_first= True)\n",
    "destinationCity.head()\n",
    "#abudhabidroped\n",
    "destinationCity.columns"
   ]
  },
  {
   "cell_type": "code",
   "execution_count": 277,
   "metadata": {},
   "outputs": [
    {
     "data": {
      "text/html": [
       "<div>\n",
       "<style scoped>\n",
       "    .dataframe tbody tr th:only-of-type {\n",
       "        vertical-align: middle;\n",
       "    }\n",
       "\n",
       "    .dataframe tbody tr th {\n",
       "        vertical-align: top;\n",
       "    }\n",
       "\n",
       "    .dataframe thead th {\n",
       "        text-align: right;\n",
       "    }\n",
       "</style>\n",
       "<table border=\"1\" class=\"dataframe\">\n",
       "  <thead>\n",
       "    <tr style=\"text-align: right;\">\n",
       "      <th></th>\n",
       "      <th>destinationCountry_KSA</th>\n",
       "      <th>destinationCountry_Kuwait</th>\n",
       "      <th>destinationCountry_UAE</th>\n",
       "    </tr>\n",
       "  </thead>\n",
       "  <tbody>\n",
       "    <tr>\n",
       "      <td>0</td>\n",
       "      <td>1</td>\n",
       "      <td>0</td>\n",
       "      <td>0</td>\n",
       "    </tr>\n",
       "    <tr>\n",
       "      <td>1</td>\n",
       "      <td>1</td>\n",
       "      <td>0</td>\n",
       "      <td>0</td>\n",
       "    </tr>\n",
       "    <tr>\n",
       "      <td>2</td>\n",
       "      <td>1</td>\n",
       "      <td>0</td>\n",
       "      <td>0</td>\n",
       "    </tr>\n",
       "    <tr>\n",
       "      <td>3</td>\n",
       "      <td>1</td>\n",
       "      <td>0</td>\n",
       "      <td>0</td>\n",
       "    </tr>\n",
       "    <tr>\n",
       "      <td>4</td>\n",
       "      <td>1</td>\n",
       "      <td>0</td>\n",
       "      <td>0</td>\n",
       "    </tr>\n",
       "  </tbody>\n",
       "</table>\n",
       "</div>"
      ],
      "text/plain": [
       "   destinationCountry_KSA  destinationCountry_Kuwait  destinationCountry_UAE\n",
       "0                       1                          0                       0\n",
       "1                       1                          0                       0\n",
       "2                       1                          0                       0\n",
       "3                       1                          0                       0\n",
       "4                       1                          0                       0"
      ]
     },
     "execution_count": 277,
     "metadata": {},
     "output_type": "execute_result"
    }
   ],
   "source": [
    "#oneHotEncoding\n",
    "\n",
    "destinationCountry = test_data[[\"destinationCountry\"]]\n",
    "destinationCountry  = pd.get_dummies(destinationCountry,drop_first= True)\n",
    "destinationCountry.head()\n",
    "#Bahrain\n"
   ]
  },
  {
   "cell_type": "code",
   "execution_count": 278,
   "metadata": {},
   "outputs": [
    {
     "data": {
      "text/html": [
       "<div>\n",
       "<style scoped>\n",
       "    .dataframe tbody tr th:only-of-type {\n",
       "        vertical-align: middle;\n",
       "    }\n",
       "\n",
       "    .dataframe tbody tr th {\n",
       "        vertical-align: top;\n",
       "    }\n",
       "\n",
       "    .dataframe thead th {\n",
       "        text-align: right;\n",
       "    }\n",
       "</style>\n",
       "<table border=\"1\" class=\"dataframe\">\n",
       "  <thead>\n",
       "    <tr style=\"text-align: right;\">\n",
       "      <th></th>\n",
       "      <th>sourceCity_Dammam</th>\n",
       "      <th>sourceCity_Jeddah</th>\n",
       "      <th>sourceCity_Riyadh</th>\n",
       "      <th>sourceCity_Tiles Plant 2</th>\n",
       "    </tr>\n",
       "  </thead>\n",
       "  <tbody>\n",
       "    <tr>\n",
       "      <td>0</td>\n",
       "      <td>0</td>\n",
       "      <td>0</td>\n",
       "      <td>1</td>\n",
       "      <td>0</td>\n",
       "    </tr>\n",
       "    <tr>\n",
       "      <td>1</td>\n",
       "      <td>0</td>\n",
       "      <td>0</td>\n",
       "      <td>0</td>\n",
       "      <td>1</td>\n",
       "    </tr>\n",
       "    <tr>\n",
       "      <td>2</td>\n",
       "      <td>0</td>\n",
       "      <td>0</td>\n",
       "      <td>0</td>\n",
       "      <td>1</td>\n",
       "    </tr>\n",
       "    <tr>\n",
       "      <td>3</td>\n",
       "      <td>0</td>\n",
       "      <td>0</td>\n",
       "      <td>1</td>\n",
       "      <td>0</td>\n",
       "    </tr>\n",
       "    <tr>\n",
       "      <td>4</td>\n",
       "      <td>0</td>\n",
       "      <td>0</td>\n",
       "      <td>0</td>\n",
       "      <td>1</td>\n",
       "    </tr>\n",
       "  </tbody>\n",
       "</table>\n",
       "</div>"
      ],
      "text/plain": [
       "   sourceCity_Dammam  sourceCity_Jeddah  sourceCity_Riyadh  \\\n",
       "0                  0                  0                  1   \n",
       "1                  0                  0                  0   \n",
       "2                  0                  0                  0   \n",
       "3                  0                  0                  1   \n",
       "4                  0                  0                  0   \n",
       "\n",
       "   sourceCity_Tiles Plant 2  \n",
       "0                         0  \n",
       "1                         1  \n",
       "2                         1  \n",
       "3                         0  \n",
       "4                         1  "
      ]
     },
     "execution_count": 278,
     "metadata": {},
     "output_type": "execute_result"
    }
   ],
   "source": [
    "#oneHotEncoding\n",
    "\n",
    "sourceCity = test_data[[\"sourceCity\"]]\n",
    "sourceCity  = pd.get_dummies(sourceCity,drop_first= True)\n",
    "sourceCity.head()\n",
    "#Al Jubail \n"
   ]
  },
  {
   "cell_type": "code",
   "execution_count": 279,
   "metadata": {},
   "outputs": [
    {
     "data": {
      "text/html": [
       "<div>\n",
       "<style scoped>\n",
       "    .dataframe tbody tr th:only-of-type {\n",
       "        vertical-align: middle;\n",
       "    }\n",
       "\n",
       "    .dataframe tbody tr th {\n",
       "        vertical-align: top;\n",
       "    }\n",
       "\n",
       "    .dataframe thead th {\n",
       "        text-align: right;\n",
       "    }\n",
       "</style>\n",
       "<table border=\"1\" class=\"dataframe\">\n",
       "  <thead>\n",
       "    <tr style=\"text-align: right;\">\n",
       "      <th></th>\n",
       "      <th>sourceCity</th>\n",
       "      <th>destinationCity</th>\n",
       "      <th>destinationCountry</th>\n",
       "      <th>truckType</th>\n",
       "      <th>perAssignmentPrice</th>\n",
       "      <th>Shipment_day</th>\n",
       "      <th>Shipment_week</th>\n",
       "      <th>Shipment_month</th>\n",
       "      <th>destinationCity_Ad Diriyah</th>\n",
       "      <th>destinationCity_Al Duwadimi</th>\n",
       "      <th>...</th>\n",
       "      <th>destinationCity_Tabuk</th>\n",
       "      <th>destinationCity_Taif</th>\n",
       "      <th>destinationCity_Tammamah</th>\n",
       "      <th>destinationCountry_KSA</th>\n",
       "      <th>destinationCountry_Kuwait</th>\n",
       "      <th>destinationCountry_UAE</th>\n",
       "      <th>sourceCity_Dammam</th>\n",
       "      <th>sourceCity_Jeddah</th>\n",
       "      <th>sourceCity_Riyadh</th>\n",
       "      <th>sourceCity_Tiles Plant 2</th>\n",
       "    </tr>\n",
       "  </thead>\n",
       "  <tbody>\n",
       "    <tr>\n",
       "      <td>0</td>\n",
       "      <td>Riyadh</td>\n",
       "      <td>Riyadh</td>\n",
       "      <td>KSA</td>\n",
       "      <td>21</td>\n",
       "      <td>330.0</td>\n",
       "      <td>26</td>\n",
       "      <td>2</td>\n",
       "      <td>8</td>\n",
       "      <td>0</td>\n",
       "      <td>0</td>\n",
       "      <td>...</td>\n",
       "      <td>0</td>\n",
       "      <td>0</td>\n",
       "      <td>0</td>\n",
       "      <td>1</td>\n",
       "      <td>0</td>\n",
       "      <td>0</td>\n",
       "      <td>0</td>\n",
       "      <td>0</td>\n",
       "      <td>1</td>\n",
       "      <td>0</td>\n",
       "    </tr>\n",
       "    <tr>\n",
       "      <td>1</td>\n",
       "      <td>Tiles Plant 2</td>\n",
       "      <td>Amajiah</td>\n",
       "      <td>KSA</td>\n",
       "      <td>21</td>\n",
       "      <td>120.0</td>\n",
       "      <td>9</td>\n",
       "      <td>1</td>\n",
       "      <td>6</td>\n",
       "      <td>0</td>\n",
       "      <td>0</td>\n",
       "      <td>...</td>\n",
       "      <td>0</td>\n",
       "      <td>0</td>\n",
       "      <td>0</td>\n",
       "      <td>1</td>\n",
       "      <td>0</td>\n",
       "      <td>0</td>\n",
       "      <td>0</td>\n",
       "      <td>0</td>\n",
       "      <td>0</td>\n",
       "      <td>1</td>\n",
       "    </tr>\n",
       "    <tr>\n",
       "      <td>2</td>\n",
       "      <td>Tiles Plant 2</td>\n",
       "      <td>Amajiah</td>\n",
       "      <td>KSA</td>\n",
       "      <td>21</td>\n",
       "      <td>120.0</td>\n",
       "      <td>28</td>\n",
       "      <td>1</td>\n",
       "      <td>4</td>\n",
       "      <td>0</td>\n",
       "      <td>0</td>\n",
       "      <td>...</td>\n",
       "      <td>0</td>\n",
       "      <td>0</td>\n",
       "      <td>0</td>\n",
       "      <td>1</td>\n",
       "      <td>0</td>\n",
       "      <td>0</td>\n",
       "      <td>0</td>\n",
       "      <td>0</td>\n",
       "      <td>0</td>\n",
       "      <td>1</td>\n",
       "    </tr>\n",
       "    <tr>\n",
       "      <td>3</td>\n",
       "      <td>Riyadh</td>\n",
       "      <td>Jeddah</td>\n",
       "      <td>KSA</td>\n",
       "      <td>21</td>\n",
       "      <td>1225.0</td>\n",
       "      <td>22</td>\n",
       "      <td>3</td>\n",
       "      <td>10</td>\n",
       "      <td>0</td>\n",
       "      <td>0</td>\n",
       "      <td>...</td>\n",
       "      <td>0</td>\n",
       "      <td>0</td>\n",
       "      <td>0</td>\n",
       "      <td>1</td>\n",
       "      <td>0</td>\n",
       "      <td>0</td>\n",
       "      <td>0</td>\n",
       "      <td>0</td>\n",
       "      <td>1</td>\n",
       "      <td>0</td>\n",
       "    </tr>\n",
       "    <tr>\n",
       "      <td>4</td>\n",
       "      <td>Tiles Plant 2</td>\n",
       "      <td>Al Rashid</td>\n",
       "      <td>KSA</td>\n",
       "      <td>21</td>\n",
       "      <td>100.0</td>\n",
       "      <td>21</td>\n",
       "      <td>1</td>\n",
       "      <td>4</td>\n",
       "      <td>0</td>\n",
       "      <td>0</td>\n",
       "      <td>...</td>\n",
       "      <td>0</td>\n",
       "      <td>0</td>\n",
       "      <td>0</td>\n",
       "      <td>1</td>\n",
       "      <td>0</td>\n",
       "      <td>0</td>\n",
       "      <td>0</td>\n",
       "      <td>0</td>\n",
       "      <td>0</td>\n",
       "      <td>1</td>\n",
       "    </tr>\n",
       "  </tbody>\n",
       "</table>\n",
       "<p>5 rows × 35 columns</p>\n",
       "</div>"
      ],
      "text/plain": [
       "      sourceCity destinationCity destinationCountry  truckType  \\\n",
       "0         Riyadh          Riyadh                KSA         21   \n",
       "1  Tiles Plant 2         Amajiah                KSA         21   \n",
       "2  Tiles Plant 2         Amajiah                KSA         21   \n",
       "3         Riyadh          Jeddah                KSA         21   \n",
       "4  Tiles Plant 2       Al Rashid                KSA         21   \n",
       "\n",
       "   perAssignmentPrice  Shipment_day  Shipment_week  Shipment_month  \\\n",
       "0               330.0            26              2               8   \n",
       "1               120.0             9              1               6   \n",
       "2               120.0            28              1               4   \n",
       "3              1225.0            22              3              10   \n",
       "4               100.0            21              1               4   \n",
       "\n",
       "   destinationCity_Ad Diriyah  destinationCity_Al Duwadimi  ...  \\\n",
       "0                           0                            0  ...   \n",
       "1                           0                            0  ...   \n",
       "2                           0                            0  ...   \n",
       "3                           0                            0  ...   \n",
       "4                           0                            0  ...   \n",
       "\n",
       "   destinationCity_Tabuk  destinationCity_Taif  destinationCity_Tammamah  \\\n",
       "0                      0                     0                         0   \n",
       "1                      0                     0                         0   \n",
       "2                      0                     0                         0   \n",
       "3                      0                     0                         0   \n",
       "4                      0                     0                         0   \n",
       "\n",
       "   destinationCountry_KSA  destinationCountry_Kuwait  destinationCountry_UAE  \\\n",
       "0                       1                          0                       0   \n",
       "1                       1                          0                       0   \n",
       "2                       1                          0                       0   \n",
       "3                       1                          0                       0   \n",
       "4                       1                          0                       0   \n",
       "\n",
       "   sourceCity_Dammam  sourceCity_Jeddah  sourceCity_Riyadh  \\\n",
       "0                  0                  0                  1   \n",
       "1                  0                  0                  0   \n",
       "2                  0                  0                  0   \n",
       "3                  0                  0                  1   \n",
       "4                  0                  0                  0   \n",
       "\n",
       "   sourceCity_Tiles Plant 2  \n",
       "0                         0  \n",
       "1                         1  \n",
       "2                         1  \n",
       "3                         0  \n",
       "4                         1  \n",
       "\n",
       "[5 rows x 35 columns]"
      ]
     },
     "execution_count": 279,
     "metadata": {},
     "output_type": "execute_result"
    }
   ],
   "source": [
    "data_test = pd.concat([test_data , destinationCity ], axis =1)\n",
    "data_test = pd.concat([data_test , destinationCountry,sourceCity ], axis =1)\n",
    "data_test.head()"
   ]
  },
  {
   "cell_type": "code",
   "execution_count": 280,
   "metadata": {},
   "outputs": [],
   "source": [
    "data_test.drop([\"sourceCity\"], axis = 1,inplace = True)\n",
    "data_test.drop([\"destinationCity\"], axis = 1,inplace = True)\n",
    "data_test.drop([\"destinationCountry\"], axis = 1,inplace = True)\n"
   ]
  },
  {
   "cell_type": "code",
   "execution_count": 281,
   "metadata": {},
   "outputs": [
    {
     "data": {
      "text/html": [
       "<div>\n",
       "<style scoped>\n",
       "    .dataframe tbody tr th:only-of-type {\n",
       "        vertical-align: middle;\n",
       "    }\n",
       "\n",
       "    .dataframe tbody tr th {\n",
       "        vertical-align: top;\n",
       "    }\n",
       "\n",
       "    .dataframe thead th {\n",
       "        text-align: right;\n",
       "    }\n",
       "</style>\n",
       "<table border=\"1\" class=\"dataframe\">\n",
       "  <thead>\n",
       "    <tr style=\"text-align: right;\">\n",
       "      <th></th>\n",
       "      <th>truckType</th>\n",
       "      <th>perAssignmentPrice</th>\n",
       "      <th>Shipment_day</th>\n",
       "      <th>Shipment_week</th>\n",
       "      <th>Shipment_month</th>\n",
       "      <th>destinationCity_Ad Diriyah</th>\n",
       "      <th>destinationCity_Al Duwadimi</th>\n",
       "      <th>destinationCity_Al Hofuf</th>\n",
       "      <th>destinationCity_Al Jubail</th>\n",
       "      <th>destinationCity_Al Khobar</th>\n",
       "      <th>...</th>\n",
       "      <th>destinationCity_Tabuk</th>\n",
       "      <th>destinationCity_Taif</th>\n",
       "      <th>destinationCity_Tammamah</th>\n",
       "      <th>destinationCountry_KSA</th>\n",
       "      <th>destinationCountry_Kuwait</th>\n",
       "      <th>destinationCountry_UAE</th>\n",
       "      <th>sourceCity_Dammam</th>\n",
       "      <th>sourceCity_Jeddah</th>\n",
       "      <th>sourceCity_Riyadh</th>\n",
       "      <th>sourceCity_Tiles Plant 2</th>\n",
       "    </tr>\n",
       "  </thead>\n",
       "  <tbody>\n",
       "    <tr>\n",
       "      <td>0</td>\n",
       "      <td>21</td>\n",
       "      <td>330.0</td>\n",
       "      <td>26</td>\n",
       "      <td>2</td>\n",
       "      <td>8</td>\n",
       "      <td>0</td>\n",
       "      <td>0</td>\n",
       "      <td>0</td>\n",
       "      <td>0</td>\n",
       "      <td>0</td>\n",
       "      <td>...</td>\n",
       "      <td>0</td>\n",
       "      <td>0</td>\n",
       "      <td>0</td>\n",
       "      <td>1</td>\n",
       "      <td>0</td>\n",
       "      <td>0</td>\n",
       "      <td>0</td>\n",
       "      <td>0</td>\n",
       "      <td>1</td>\n",
       "      <td>0</td>\n",
       "    </tr>\n",
       "    <tr>\n",
       "      <td>1</td>\n",
       "      <td>21</td>\n",
       "      <td>120.0</td>\n",
       "      <td>9</td>\n",
       "      <td>1</td>\n",
       "      <td>6</td>\n",
       "      <td>0</td>\n",
       "      <td>0</td>\n",
       "      <td>0</td>\n",
       "      <td>0</td>\n",
       "      <td>0</td>\n",
       "      <td>...</td>\n",
       "      <td>0</td>\n",
       "      <td>0</td>\n",
       "      <td>0</td>\n",
       "      <td>1</td>\n",
       "      <td>0</td>\n",
       "      <td>0</td>\n",
       "      <td>0</td>\n",
       "      <td>0</td>\n",
       "      <td>0</td>\n",
       "      <td>1</td>\n",
       "    </tr>\n",
       "    <tr>\n",
       "      <td>2</td>\n",
       "      <td>21</td>\n",
       "      <td>120.0</td>\n",
       "      <td>28</td>\n",
       "      <td>1</td>\n",
       "      <td>4</td>\n",
       "      <td>0</td>\n",
       "      <td>0</td>\n",
       "      <td>0</td>\n",
       "      <td>0</td>\n",
       "      <td>0</td>\n",
       "      <td>...</td>\n",
       "      <td>0</td>\n",
       "      <td>0</td>\n",
       "      <td>0</td>\n",
       "      <td>1</td>\n",
       "      <td>0</td>\n",
       "      <td>0</td>\n",
       "      <td>0</td>\n",
       "      <td>0</td>\n",
       "      <td>0</td>\n",
       "      <td>1</td>\n",
       "    </tr>\n",
       "    <tr>\n",
       "      <td>3</td>\n",
       "      <td>21</td>\n",
       "      <td>1225.0</td>\n",
       "      <td>22</td>\n",
       "      <td>3</td>\n",
       "      <td>10</td>\n",
       "      <td>0</td>\n",
       "      <td>0</td>\n",
       "      <td>0</td>\n",
       "      <td>0</td>\n",
       "      <td>0</td>\n",
       "      <td>...</td>\n",
       "      <td>0</td>\n",
       "      <td>0</td>\n",
       "      <td>0</td>\n",
       "      <td>1</td>\n",
       "      <td>0</td>\n",
       "      <td>0</td>\n",
       "      <td>0</td>\n",
       "      <td>0</td>\n",
       "      <td>1</td>\n",
       "      <td>0</td>\n",
       "    </tr>\n",
       "    <tr>\n",
       "      <td>4</td>\n",
       "      <td>21</td>\n",
       "      <td>100.0</td>\n",
       "      <td>21</td>\n",
       "      <td>1</td>\n",
       "      <td>4</td>\n",
       "      <td>0</td>\n",
       "      <td>0</td>\n",
       "      <td>0</td>\n",
       "      <td>0</td>\n",
       "      <td>0</td>\n",
       "      <td>...</td>\n",
       "      <td>0</td>\n",
       "      <td>0</td>\n",
       "      <td>0</td>\n",
       "      <td>1</td>\n",
       "      <td>0</td>\n",
       "      <td>0</td>\n",
       "      <td>0</td>\n",
       "      <td>0</td>\n",
       "      <td>0</td>\n",
       "      <td>1</td>\n",
       "    </tr>\n",
       "  </tbody>\n",
       "</table>\n",
       "<p>5 rows × 32 columns</p>\n",
       "</div>"
      ],
      "text/plain": [
       "   truckType  perAssignmentPrice  Shipment_day  Shipment_week  Shipment_month  \\\n",
       "0         21               330.0            26              2               8   \n",
       "1         21               120.0             9              1               6   \n",
       "2         21               120.0            28              1               4   \n",
       "3         21              1225.0            22              3              10   \n",
       "4         21               100.0            21              1               4   \n",
       "\n",
       "   destinationCity_Ad Diriyah  destinationCity_Al Duwadimi  \\\n",
       "0                           0                            0   \n",
       "1                           0                            0   \n",
       "2                           0                            0   \n",
       "3                           0                            0   \n",
       "4                           0                            0   \n",
       "\n",
       "   destinationCity_Al Hofuf  destinationCity_Al Jubail  \\\n",
       "0                         0                          0   \n",
       "1                         0                          0   \n",
       "2                         0                          0   \n",
       "3                         0                          0   \n",
       "4                         0                          0   \n",
       "\n",
       "   destinationCity_Al Khobar  ...  destinationCity_Tabuk  \\\n",
       "0                          0  ...                      0   \n",
       "1                          0  ...                      0   \n",
       "2                          0  ...                      0   \n",
       "3                          0  ...                      0   \n",
       "4                          0  ...                      0   \n",
       "\n",
       "   destinationCity_Taif  destinationCity_Tammamah  destinationCountry_KSA  \\\n",
       "0                     0                         0                       1   \n",
       "1                     0                         0                       1   \n",
       "2                     0                         0                       1   \n",
       "3                     0                         0                       1   \n",
       "4                     0                         0                       1   \n",
       "\n",
       "   destinationCountry_Kuwait  destinationCountry_UAE  sourceCity_Dammam  \\\n",
       "0                          0                       0                  0   \n",
       "1                          0                       0                  0   \n",
       "2                          0                       0                  0   \n",
       "3                          0                       0                  0   \n",
       "4                          0                       0                  0   \n",
       "\n",
       "   sourceCity_Jeddah  sourceCity_Riyadh  sourceCity_Tiles Plant 2  \n",
       "0                  0                  1                         0  \n",
       "1                  0                  0                         1  \n",
       "2                  0                  0                         1  \n",
       "3                  0                  1                         0  \n",
       "4                  0                  0                         1  \n",
       "\n",
       "[5 rows x 32 columns]"
      ]
     },
     "execution_count": 281,
     "metadata": {},
     "output_type": "execute_result"
    }
   ],
   "source": [
    "data_test.head()"
   ]
  },
  {
   "cell_type": "markdown",
   "metadata": {},
   "source": [
    "## Feature Selection\n"
   ]
  },
  {
   "cell_type": "code",
   "execution_count": 282,
   "metadata": {},
   "outputs": [
    {
     "data": {
      "text/plain": [
       "Index(['truckType', 'perAssignmentPrice', 'Shipment_day', 'Shipment_week',\n",
       "       'Shipment_month', 'destinationCity_Ad Diriyah',\n",
       "       'destinationCity_Al Duwadimi', 'destinationCity_Al Hofuf',\n",
       "       'destinationCity_Al Jubail', 'destinationCity_Al Khobar',\n",
       "       'destinationCity_Al Rashid', 'destinationCity_Amajiah',\n",
       "       'destinationCity_Bahrain', 'destinationCity_Buraydah',\n",
       "       'destinationCity_Dammam', 'destinationCity_Dubai',\n",
       "       'destinationCity_Hafar Al Batin', 'destinationCity_Hail',\n",
       "       'destinationCity_Jeddah', 'destinationCity_Kuwait',\n",
       "       'destinationCity_Medina', 'destinationCity_Riyadh',\n",
       "       'destinationCity_Tabuk', 'destinationCity_Taif',\n",
       "       'destinationCity_Tammamah', 'destinationCountry_KSA',\n",
       "       'destinationCountry_Kuwait', 'destinationCountry_UAE',\n",
       "       'sourceCity_Dammam', 'sourceCity_Jeddah', 'sourceCity_Riyadh',\n",
       "       'sourceCity_Tiles Plant 2'],\n",
       "      dtype='object')"
      ]
     },
     "execution_count": 282,
     "metadata": {},
     "output_type": "execute_result"
    }
   ],
   "source": [
    "data_train.columns"
   ]
  },
  {
   "cell_type": "code",
   "execution_count": 283,
   "metadata": {},
   "outputs": [
    {
     "name": "stdout",
     "output_type": "stream",
     "text": [
      "<class 'pandas.core.frame.DataFrame'>\n",
      "Int64Index: 7971 entries, 0 to 7983\n",
      "Data columns (total 30 columns):\n",
      "Shipment_day                      7971 non-null int64\n",
      "Shipment_week                     7971 non-null int64\n",
      "Shipment_month                    7971 non-null int64\n",
      "destinationCity_Ad Diriyah        7971 non-null uint8\n",
      "destinationCity_Al Duwadimi       7971 non-null uint8\n",
      "destinationCity_Al Hofuf          7971 non-null uint8\n",
      "destinationCity_Al Jubail         7971 non-null uint8\n",
      "destinationCity_Al Khobar         7971 non-null uint8\n",
      "destinationCity_Al Rashid         7971 non-null uint8\n",
      "destinationCity_Amajiah           7971 non-null uint8\n",
      "destinationCity_Bahrain           7971 non-null uint8\n",
      "destinationCity_Buraydah          7971 non-null uint8\n",
      "destinationCity_Dammam            7971 non-null uint8\n",
      "destinationCity_Dubai             7971 non-null uint8\n",
      "destinationCity_Hafar Al Batin    7971 non-null uint8\n",
      "destinationCity_Hail              7971 non-null uint8\n",
      "destinationCity_Jeddah            7971 non-null uint8\n",
      "destinationCity_Kuwait            7971 non-null uint8\n",
      "destinationCity_Medina            7971 non-null uint8\n",
      "destinationCity_Riyadh            7971 non-null uint8\n",
      "destinationCity_Tabuk             7971 non-null uint8\n",
      "destinationCity_Taif              7971 non-null uint8\n",
      "destinationCity_Tammamah          7971 non-null uint8\n",
      "destinationCountry_KSA            7971 non-null uint8\n",
      "destinationCountry_Kuwait         7971 non-null uint8\n",
      "destinationCountry_UAE            7971 non-null uint8\n",
      "sourceCity_Dammam                 7971 non-null uint8\n",
      "sourceCity_Jeddah                 7971 non-null uint8\n",
      "sourceCity_Riyadh                 7971 non-null uint8\n",
      "sourceCity_Tiles Plant 2          7971 non-null uint8\n",
      "dtypes: int64(3), uint8(27)\n",
      "memory usage: 459.3 KB\n"
     ]
    }
   ],
   "source": [
    "X= data_train.loc[:,['Shipment_day', 'Shipment_week',\n",
    "       'Shipment_month', 'destinationCity_Ad Diriyah',\n",
    "       'destinationCity_Al Duwadimi', 'destinationCity_Al Hofuf',\n",
    "       'destinationCity_Al Jubail', 'destinationCity_Al Khobar',\n",
    "       'destinationCity_Al Rashid', 'destinationCity_Amajiah',\n",
    "        'destinationCity_Bahrain',\n",
    "       'destinationCity_Buraydah', 'destinationCity_Dammam',\n",
    "       'destinationCity_Dubai', 'destinationCity_Hafar Al Batin',\n",
    "       'destinationCity_Hail', 'destinationCity_Jeddah',\n",
    "       'destinationCity_Kuwait', 'destinationCity_Medina',\n",
    "       'destinationCity_Riyadh', 'destinationCity_Tabuk',\n",
    "       'destinationCity_Taif', 'destinationCity_Tammamah',\n",
    "       'destinationCountry_KSA', 'destinationCountry_Kuwait',\n",
    "       'destinationCountry_UAE', 'sourceCity_Dammam', 'sourceCity_Jeddah',\n",
    "       'sourceCity_Riyadh', 'sourceCity_Tiles Plant 2']]\n",
    "X.info()"
   ]
  },
  {
   "cell_type": "code",
   "execution_count": 284,
   "metadata": {},
   "outputs": [
    {
     "data": {
      "text/plain": [
       "0     800.0\n",
       "1     330.0\n",
       "2     120.0\n",
       "3     120.0\n",
       "4    1900.0\n",
       "Name: perAssignmentPrice, dtype: float64"
      ]
     },
     "execution_count": 284,
     "metadata": {},
     "output_type": "execute_result"
    }
   ],
   "source": [
    "y= data_train.iloc[:,1]\n",
    "y.head()"
   ]
  },
  {
   "cell_type": "code",
   "execution_count": 285,
   "metadata": {},
   "outputs": [
    {
     "data": {
      "text/plain": [
       "<matplotlib.axes._subplots.AxesSubplot at 0x291c206f6c8>"
      ]
     },
     "execution_count": 285,
     "metadata": {},
     "output_type": "execute_result"
    },
    {
     "data": {
      "image/png": "[encoded data removed]",
      "text/plain": [
       "<Figure size 1296x1296 with 2 Axes>"
      ]
     },
     "metadata": {},
     "output_type": "display_data"
    }
   ],
   "source": [
    "#lets find correlation\n",
    "plt.figure(figsize = (18,18))\n",
    "sns.heatmap(train_data.corr(), annot =True, cmap =\"RdYlGn\")"
   ]
  },
  {
   "cell_type": "code",
   "execution_count": 286,
   "metadata": {},
   "outputs": [
    {
     "name": "stderr",
     "output_type": "stream",
     "text": [
      "C:\\Users\\ankita\\Anaconda3\\lib\\site-packages\\sklearn\\ensemble\\forest.py:245: FutureWarning: The default value of n_estimators will change from 10 in version 0.20 to 100 in 0.22.\n",
      "  \"10 in version 0.20 to 100 in 0.22.\", FutureWarning)\n"
     ]
    },
    {
     "data": {
      "text/plain": [
       "ExtraTreesRegressor(bootstrap=False, criterion='mse', max_depth=None,\n",
       "                    max_features='auto', max_leaf_nodes=None,\n",
       "                    min_impurity_decrease=0.0, min_impurity_split=None,\n",
       "                    min_samples_leaf=1, min_samples_split=2,\n",
       "                    min_weight_fraction_leaf=0.0, n_estimators=10, n_jobs=None,\n",
       "                    oob_score=False, random_state=None, verbose=0,\n",
       "                    warm_start=False)"
      ]
     },
     "execution_count": 286,
     "metadata": {},
     "output_type": "execute_result"
    }
   ],
   "source": [
    "from sklearn.ensemble import ExtraTreesRegressor\n",
    "selection = ExtraTreesRegressor()\n",
    "selection.fit(X,y)"
   ]
  },
  {
   "cell_type": "code",
   "execution_count": 287,
   "metadata": {},
   "outputs": [
    {
     "name": "stdout",
     "output_type": "stream",
     "text": [
      "[3.64126213e-02 2.19975695e-02 3.17883447e-01 2.92917312e-02\n",
      " 3.24855546e-05 9.70182262e-05 3.47963010e-04 6.59726252e-06\n",
      " 1.27267265e-03 2.73011370e-02 8.72163239e-03 4.52197415e-04\n",
      " 7.18675229e-06 8.33168320e-03 2.46759796e-03 6.31114554e-03\n",
      " 1.36629846e-02 1.12398347e-03 4.41277337e-03 1.01652757e-01\n",
      " 1.92039397e-02 1.09862351e-02 1.75405071e-04 2.05257880e-01\n",
      " 2.60765735e-03 2.69262298e-02 1.01057985e-03 4.09566132e-02\n",
      " 1.19252357e-02 9.91630404e-02]\n"
     ]
    }
   ],
   "source": [
    "print(selection.feature_importances_)"
   ]
  },
  {
   "cell_type": "code",
   "execution_count": 288,
   "metadata": {},
   "outputs": [
    {
     "data": {
      "image/png": "[encoded data removed]",
      "text/plain": [
       "<Figure size 864x576 with 1 Axes>"
      ]
     },
     "metadata": {},
     "output_type": "display_data"
    }
   ],
   "source": [
    "plt.figure(figsize = (12,8))\n",
    "feat_importances = pd.Series(selection.feature_importances_, index = X.columns)\n",
    "feat_importances.nlargest(20).plot(kind='barh')\n",
    "plt.show()"
   ]
  },
  {
   "cell_type": "code",
   "execution_count": 289,
   "metadata": {},
   "outputs": [],
   "source": [
    "from sklearn.model_selection import train_test_split\n",
    "X_train,X_test,y_train,y_test = train_test_split(X,y,test_size=0.2)"
   ]
  },
  {
   "cell_type": "code",
   "execution_count": 290,
   "metadata": {},
   "outputs": [
    {
     "name": "stderr",
     "output_type": "stream",
     "text": [
      "C:\\Users\\ankita\\Anaconda3\\lib\\site-packages\\sklearn\\ensemble\\forest.py:245: FutureWarning: The default value of n_estimators will change from 10 in version 0.20 to 100 in 0.22.\n",
      "  \"10 in version 0.20 to 100 in 0.22.\", FutureWarning)\n"
     ]
    },
    {
     "data": {
      "text/plain": [
       "RandomForestRegressor(bootstrap=True, criterion='mse', max_depth=None,\n",
       "                      max_features='auto', max_leaf_nodes=None,\n",
       "                      min_impurity_decrease=0.0, min_impurity_split=None,\n",
       "                      min_samples_leaf=1, min_samples_split=2,\n",
       "                      min_weight_fraction_leaf=0.0, n_estimators=10,\n",
       "                      n_jobs=None, oob_score=False, random_state=None,\n",
       "                      verbose=0, warm_start=False)"
      ]
     },
     "execution_count": 290,
     "metadata": {},
     "output_type": "execute_result"
    }
   ],
   "source": [
    "import numpy as np\n",
    "from sklearn.ensemble import RandomForestRegressor\n",
    "regressor=RandomForestRegressor()\n",
    "regressor.fit(X_train,y_train)"
   ]
  },
  {
   "cell_type": "code",
   "execution_count": 291,
   "metadata": {},
   "outputs": [
    {
     "data": {
      "text/plain": [
       "array([560., 406., 450., ..., 325., 330., 330.])"
      ]
     },
     "execution_count": 291,
     "metadata": {},
     "output_type": "execute_result"
    }
   ],
   "source": [
    "y_predictions=regressor.predict(X_test)\n",
    "y_predictions"
   ]
  },
  {
   "cell_type": "code",
   "execution_count": 292,
   "metadata": {},
   "outputs": [
    {
     "data": {
      "text/plain": [
       "0.9779475565714127"
      ]
     },
     "execution_count": 292,
     "metadata": {},
     "output_type": "execute_result"
    }
   ],
   "source": [
    "regressor.score(X_train,y_train)"
   ]
  },
  {
   "cell_type": "code",
   "execution_count": 293,
   "metadata": {},
   "outputs": [
    {
     "data": {
      "text/plain": [
       "0.7771734429185718"
      ]
     },
     "execution_count": 293,
     "metadata": {},
     "output_type": "execute_result"
    }
   ],
   "source": [
    "regressor.score(X_test,y_test)"
   ]
  },
  {
   "cell_type": "code",
   "execution_count": 294,
   "metadata": {},
   "outputs": [
    {
     "data": {
      "text/plain": [
       "<matplotlib.axes._subplots.AxesSubplot at 0x291c2b78688>"
      ]
     },
     "execution_count": 294,
     "metadata": {},
     "output_type": "execute_result"
    },
    {
     "data": {
      "image/png": "[encoded data removed]",
      "text/plain": [
       "<Figure size 432x288 with 1 Axes>"
      ]
     },
     "metadata": {},
     "output_type": "display_data"
    }
   ],
   "source": [
    "sns.distplot(y_test-y_predictions)\n"
   ]
  },
  {
   "cell_type": "code",
   "execution_count": 295,
   "metadata": {},
   "outputs": [
    {
     "data": {
      "image/png": "[encoded data removed]",
      "text/plain": [
       "<Figure size 432x288 with 1 Axes>"
      ]
     },
     "metadata": {},
     "output_type": "display_data"
    }
   ],
   "source": [
    "plt.scatter(y_test,y_predictions, alpha = 0.5)\n",
    "plt.xlabel(\"y_test\")\n",
    "plt.ylabel(\"y_pred\")\n",
    "plt.show()"
   ]
  },
  {
   "cell_type": "code",
   "execution_count": 296,
   "metadata": {},
   "outputs": [],
   "source": [
    "from sklearn import metrics"
   ]
  },
  {
   "cell_type": "code",
   "execution_count": 297,
   "metadata": {},
   "outputs": [
    {
     "name": "stdout",
     "output_type": "stream",
     "text": [
      "MAE: 38.35773200882111\n",
      "MSE: 97612.54280282032\n",
      "RMSE: 312.430060658094\n"
     ]
    }
   ],
   "source": [
    "print('MAE:',metrics.mean_absolute_error(y_test,y_predictions))\n",
    "print('MSE:',metrics.mean_squared_error(y_test,y_predictions))\n",
    "print('RMSE:',np.sqrt(metrics.mean_squared_error(y_test,y_predictions)))"
   ]
  },
  {
   "cell_type": "code",
   "execution_count": 298,
   "metadata": {},
   "outputs": [
    {
     "data": {
      "text/plain": [
       "0.7771734429185718"
      ]
     },
     "execution_count": 298,
     "metadata": {},
     "output_type": "execute_result"
    }
   ],
   "source": [
    "metrics.r2_score(y_test,y_predictions)"
   ]
  },
  {
   "cell_type": "code",
   "execution_count": 299,
   "metadata": {},
   "outputs": [],
   "source": [
    "from sklearn.model_selection import RandomizedSearchCV"
   ]
  },
  {
   "cell_type": "code",
   "execution_count": 300,
   "metadata": {},
   "outputs": [],
   "source": [
    "#Randomized Search CV\n",
    "\n",
    "# Number of trees in random forest\n",
    "n_estimators = [int(x) for x in np.linspace(start = 100, stop = 1200, num = 12)]\n",
    "# Number of features to consider at every split\n",
    "max_features = ['auto', 'sqrt']\n",
    "# Maximum number of levels in tree\n",
    "max_depth = [int(x) for x in np.linspace(5, 30, num = 6)]\n",
    "# max_depth.append(None)\n",
    "# Minimum number of samples required to split a node\n",
    "min_samples_split = [2, 5, 10, 15, 100]\n",
    "# Minimum number of samples required at each leaf node\n",
    "min_samples_leaf = [1, 2, 5, 10]"
   ]
  },
  {
   "cell_type": "code",
   "execution_count": 301,
   "metadata": {},
   "outputs": [
    {
     "name": "stdout",
     "output_type": "stream",
     "text": [
      "{'n_estimators': [100, 200, 300, 400, 500, 600, 700, 800, 900, 1000, 1100, 1200], 'max_features': ['auto', 'sqrt'], 'max_depth': [5, 10, 15, 20, 25, 30], 'min_samples_split': [2, 5, 10, 15, 100], 'min_samples_leaf': [1, 2, 5, 10]}\n"
     ]
    }
   ],
   "source": [
    "# Create the random grid\n",
    "random_grid = {'n_estimators': n_estimators,\n",
    "               'max_features': max_features,\n",
    "               'max_depth': max_depth,\n",
    "               'min_samples_split': min_samples_split,\n",
    "               'min_samples_leaf': min_samples_leaf}\n",
    "\n",
    "print(random_grid)"
   ]
  },
  {
   "cell_type": "code",
   "execution_count": 302,
   "metadata": {},
   "outputs": [],
   "source": [
    "rf_random = RandomizedSearchCV(estimator = regressor, param_distributions = random_grid,scoring='neg_mean_squared_error', n_iter = 10, cv = 5, verbose=2, random_state=42, n_jobs = 1)"
   ]
  },
  {
   "cell_type": "code",
   "execution_count": 303,
   "metadata": {},
   "outputs": [
    {
     "name": "stdout",
     "output_type": "stream",
     "text": [
      "Fitting 5 folds for each of 10 candidates, totalling 50 fits\n",
      "[CV] n_estimators=900, min_samples_split=5, min_samples_leaf=5, max_features=sqrt, max_depth=10 \n"
     ]
    },
    {
     "name": "stderr",
     "output_type": "stream",
     "text": [
      "[Parallel(n_jobs=1)]: Using backend SequentialBackend with 1 concurrent workers.\n"
     ]
    },
    {
     "name": "stdout",
     "output_type": "stream",
     "text": [
      "[CV]  n_estimators=900, min_samples_split=5, min_samples_leaf=5, max_features=sqrt, max_depth=10, total=   6.1s\n",
      "[CV] n_estimators=900, min_samples_split=5, min_samples_leaf=5, max_features=sqrt, max_depth=10 \n"
     ]
    },
    {
     "name": "stderr",
     "output_type": "stream",
     "text": [
      "[Parallel(n_jobs=1)]: Done   1 out of   1 | elapsed:    6.0s remaining:    0.0s\n"
     ]
    },
    {
     "name": "stdout",
     "output_type": "stream",
     "text": [
      "[CV]  n_estimators=900, min_samples_split=5, min_samples_leaf=5, max_features=sqrt, max_depth=10, total=   5.6s\n",
      "[CV] n_estimators=900, min_samples_split=5, min_samples_leaf=5, max_features=sqrt, max_depth=10 \n",
      "[CV]  n_estimators=900, min_samples_split=5, min_samples_leaf=5, max_features=sqrt, max_depth=10, total=   5.7s\n",
      "[CV] n_estimators=900, min_samples_split=5, min_samples_leaf=5, max_features=sqrt, max_depth=10 \n",
      "[CV]  n_estimators=900, min_samples_split=5, min_samples_leaf=5, max_features=sqrt, max_depth=10, total=   6.1s\n",
      "[CV] n_estimators=900, min_samples_split=5, min_samples_leaf=5, max_features=sqrt, max_depth=10 \n",
      "[CV]  n_estimators=900, min_samples_split=5, min_samples_leaf=5, max_features=sqrt, max_depth=10, total=   6.3s\n",
      "[CV] n_estimators=1100, min_samples_split=10, min_samples_leaf=2, max_features=sqrt, max_depth=15 \n",
      "[CV]  n_estimators=1100, min_samples_split=10, min_samples_leaf=2, max_features=sqrt, max_depth=15, total=   9.2s\n",
      "[CV] n_estimators=1100, min_samples_split=10, min_samples_leaf=2, max_features=sqrt, max_depth=15 \n",
      "[CV]  n_estimators=1100, min_samples_split=10, min_samples_leaf=2, max_features=sqrt, max_depth=15, total=   8.7s\n",
      "[CV] n_estimators=1100, min_samples_split=10, min_samples_leaf=2, max_features=sqrt, max_depth=15 \n",
      "[CV]  n_estimators=1100, min_samples_split=10, min_samples_leaf=2, max_features=sqrt, max_depth=15, total=   7.7s\n",
      "[CV] n_estimators=1100, min_samples_split=10, min_samples_leaf=2, max_features=sqrt, max_depth=15 \n",
      "[CV]  n_estimators=1100, min_samples_split=10, min_samples_leaf=2, max_features=sqrt, max_depth=15, total=   7.9s\n",
      "[CV] n_estimators=1100, min_samples_split=10, min_samples_leaf=2, max_features=sqrt, max_depth=15 \n",
      "[CV]  n_estimators=1100, min_samples_split=10, min_samples_leaf=2, max_features=sqrt, max_depth=15, total=   7.7s\n",
      "[CV] n_estimators=300, min_samples_split=100, min_samples_leaf=5, max_features=auto, max_depth=15 \n",
      "[CV]  n_estimators=300, min_samples_split=100, min_samples_leaf=5, max_features=auto, max_depth=15, total=   4.3s\n",
      "[CV] n_estimators=300, min_samples_split=100, min_samples_leaf=5, max_features=auto, max_depth=15 \n",
      "[CV]  n_estimators=300, min_samples_split=100, min_samples_leaf=5, max_features=auto, max_depth=15, total=   4.1s\n",
      "[CV] n_estimators=300, min_samples_split=100, min_samples_leaf=5, max_features=auto, max_depth=15 \n",
      "[CV]  n_estimators=300, min_samples_split=100, min_samples_leaf=5, max_features=auto, max_depth=15, total=   4.0s\n",
      "[CV] n_estimators=300, min_samples_split=100, min_samples_leaf=5, max_features=auto, max_depth=15 \n",
      "[CV]  n_estimators=300, min_samples_split=100, min_samples_leaf=5, max_features=auto, max_depth=15, total=   4.1s\n",
      "[CV] n_estimators=300, min_samples_split=100, min_samples_leaf=5, max_features=auto, max_depth=15 \n",
      "[CV]  n_estimators=300, min_samples_split=100, min_samples_leaf=5, max_features=auto, max_depth=15, total=   4.2s\n",
      "[CV] n_estimators=400, min_samples_split=5, min_samples_leaf=5, max_features=auto, max_depth=15 \n",
      "[CV]  n_estimators=400, min_samples_split=5, min_samples_leaf=5, max_features=auto, max_depth=15, total=   7.0s\n",
      "[CV] n_estimators=400, min_samples_split=5, min_samples_leaf=5, max_features=auto, max_depth=15 \n",
      "[CV]  n_estimators=400, min_samples_split=5, min_samples_leaf=5, max_features=auto, max_depth=15, total=   6.7s\n",
      "[CV] n_estimators=400, min_samples_split=5, min_samples_leaf=5, max_features=auto, max_depth=15 \n",
      "[CV]  n_estimators=400, min_samples_split=5, min_samples_leaf=5, max_features=auto, max_depth=15, total=   6.6s\n",
      "[CV] n_estimators=400, min_samples_split=5, min_samples_leaf=5, max_features=auto, max_depth=15 \n",
      "[CV]  n_estimators=400, min_samples_split=5, min_samples_leaf=5, max_features=auto, max_depth=15, total=   6.5s\n",
      "[CV] n_estimators=400, min_samples_split=5, min_samples_leaf=5, max_features=auto, max_depth=15 \n",
      "[CV]  n_estimators=400, min_samples_split=5, min_samples_leaf=5, max_features=auto, max_depth=15, total=   6.5s\n",
      "[CV] n_estimators=700, min_samples_split=5, min_samples_leaf=10, max_features=auto, max_depth=20 \n",
      "[CV]  n_estimators=700, min_samples_split=5, min_samples_leaf=10, max_features=auto, max_depth=20, total=  11.3s\n",
      "[CV] n_estimators=700, min_samples_split=5, min_samples_leaf=10, max_features=auto, max_depth=20 \n",
      "[CV]  n_estimators=700, min_samples_split=5, min_samples_leaf=10, max_features=auto, max_depth=20, total=  11.5s\n",
      "[CV] n_estimators=700, min_samples_split=5, min_samples_leaf=10, max_features=auto, max_depth=20 \n",
      "[CV]  n_estimators=700, min_samples_split=5, min_samples_leaf=10, max_features=auto, max_depth=20, total=  14.6s\n",
      "[CV] n_estimators=700, min_samples_split=5, min_samples_leaf=10, max_features=auto, max_depth=20 \n",
      "[CV]  n_estimators=700, min_samples_split=5, min_samples_leaf=10, max_features=auto, max_depth=20, total=  12.0s\n",
      "[CV] n_estimators=700, min_samples_split=5, min_samples_leaf=10, max_features=auto, max_depth=20 \n",
      "[CV]  n_estimators=700, min_samples_split=5, min_samples_leaf=10, max_features=auto, max_depth=20, total=  11.7s\n",
      "[CV] n_estimators=1000, min_samples_split=2, min_samples_leaf=1, max_features=sqrt, max_depth=25 \n",
      "[CV]  n_estimators=1000, min_samples_split=2, min_samples_leaf=1, max_features=sqrt, max_depth=25, total=   9.7s\n",
      "[CV] n_estimators=1000, min_samples_split=2, min_samples_leaf=1, max_features=sqrt, max_depth=25 \n",
      "[CV]  n_estimators=1000, min_samples_split=2, min_samples_leaf=1, max_features=sqrt, max_depth=25, total=  10.1s\n",
      "[CV] n_estimators=1000, min_samples_split=2, min_samples_leaf=1, max_features=sqrt, max_depth=25 \n",
      "[CV]  n_estimators=1000, min_samples_split=2, min_samples_leaf=1, max_features=sqrt, max_depth=25, total=  10.0s\n",
      "[CV] n_estimators=1000, min_samples_split=2, min_samples_leaf=1, max_features=sqrt, max_depth=25 \n",
      "[CV]  n_estimators=1000, min_samples_split=2, min_samples_leaf=1, max_features=sqrt, max_depth=25, total=  10.6s\n",
      "[CV] n_estimators=1000, min_samples_split=2, min_samples_leaf=1, max_features=sqrt, max_depth=25 \n",
      "[CV]  n_estimators=1000, min_samples_split=2, min_samples_leaf=1, max_features=sqrt, max_depth=25, total=  10.0s\n",
      "[CV] n_estimators=1100, min_samples_split=15, min_samples_leaf=10, max_features=sqrt, max_depth=5 \n",
      "[CV]  n_estimators=1100, min_samples_split=15, min_samples_leaf=10, max_features=sqrt, max_depth=5, total=   5.2s\n",
      "[CV] n_estimators=1100, min_samples_split=15, min_samples_leaf=10, max_features=sqrt, max_depth=5 \n",
      "[CV]  n_estimators=1100, min_samples_split=15, min_samples_leaf=10, max_features=sqrt, max_depth=5, total=   5.2s\n",
      "[CV] n_estimators=1100, min_samples_split=15, min_samples_leaf=10, max_features=sqrt, max_depth=5 \n",
      "[CV]  n_estimators=1100, min_samples_split=15, min_samples_leaf=10, max_features=sqrt, max_depth=5, total=   5.2s\n",
      "[CV] n_estimators=1100, min_samples_split=15, min_samples_leaf=10, max_features=sqrt, max_depth=5 \n",
      "[CV]  n_estimators=1100, min_samples_split=15, min_samples_leaf=10, max_features=sqrt, max_depth=5, total=   5.6s\n",
      "[CV] n_estimators=1100, min_samples_split=15, min_samples_leaf=10, max_features=sqrt, max_depth=5 \n",
      "[CV]  n_estimators=1100, min_samples_split=15, min_samples_leaf=10, max_features=sqrt, max_depth=5, total=   5.7s\n",
      "[CV] n_estimators=300, min_samples_split=15, min_samples_leaf=1, max_features=sqrt, max_depth=15 \n",
      "[CV]  n_estimators=300, min_samples_split=15, min_samples_leaf=1, max_features=sqrt, max_depth=15, total=   2.4s\n",
      "[CV] n_estimators=300, min_samples_split=15, min_samples_leaf=1, max_features=sqrt, max_depth=15 \n",
      "[CV]  n_estimators=300, min_samples_split=15, min_samples_leaf=1, max_features=sqrt, max_depth=15, total=   2.4s\n",
      "[CV] n_estimators=300, min_samples_split=15, min_samples_leaf=1, max_features=sqrt, max_depth=15 \n",
      "[CV]  n_estimators=300, min_samples_split=15, min_samples_leaf=1, max_features=sqrt, max_depth=15, total=   2.3s\n",
      "[CV] n_estimators=300, min_samples_split=15, min_samples_leaf=1, max_features=sqrt, max_depth=15 \n",
      "[CV]  n_estimators=300, min_samples_split=15, min_samples_leaf=1, max_features=sqrt, max_depth=15, total=   2.4s\n",
      "[CV] n_estimators=300, min_samples_split=15, min_samples_leaf=1, max_features=sqrt, max_depth=15 \n",
      "[CV]  n_estimators=300, min_samples_split=15, min_samples_leaf=1, max_features=sqrt, max_depth=15, total=   2.4s\n",
      "[CV] n_estimators=700, min_samples_split=10, min_samples_leaf=2, max_features=sqrt, max_depth=5 \n"
     ]
    },
    {
     "name": "stdout",
     "output_type": "stream",
     "text": [
      "[CV]  n_estimators=700, min_samples_split=10, min_samples_leaf=2, max_features=sqrt, max_depth=5, total=   3.6s\n",
      "[CV] n_estimators=700, min_samples_split=10, min_samples_leaf=2, max_features=sqrt, max_depth=5 \n",
      "[CV]  n_estimators=700, min_samples_split=10, min_samples_leaf=2, max_features=sqrt, max_depth=5, total=   3.4s\n",
      "[CV] n_estimators=700, min_samples_split=10, min_samples_leaf=2, max_features=sqrt, max_depth=5 \n",
      "[CV]  n_estimators=700, min_samples_split=10, min_samples_leaf=2, max_features=sqrt, max_depth=5, total=   3.5s\n",
      "[CV] n_estimators=700, min_samples_split=10, min_samples_leaf=2, max_features=sqrt, max_depth=5 \n",
      "[CV]  n_estimators=700, min_samples_split=10, min_samples_leaf=2, max_features=sqrt, max_depth=5, total=   3.2s\n",
      "[CV] n_estimators=700, min_samples_split=10, min_samples_leaf=2, max_features=sqrt, max_depth=5 \n",
      "[CV]  n_estimators=700, min_samples_split=10, min_samples_leaf=2, max_features=sqrt, max_depth=5, total=   3.4s\n",
      "[CV] n_estimators=700, min_samples_split=15, min_samples_leaf=1, max_features=auto, max_depth=20 \n",
      "[CV]  n_estimators=700, min_samples_split=15, min_samples_leaf=1, max_features=auto, max_depth=20, total=  12.5s\n",
      "[CV] n_estimators=700, min_samples_split=15, min_samples_leaf=1, max_features=auto, max_depth=20 \n",
      "[CV]  n_estimators=700, min_samples_split=15, min_samples_leaf=1, max_features=auto, max_depth=20, total=  12.2s\n",
      "[CV] n_estimators=700, min_samples_split=15, min_samples_leaf=1, max_features=auto, max_depth=20 \n",
      "[CV]  n_estimators=700, min_samples_split=15, min_samples_leaf=1, max_features=auto, max_depth=20, total=  12.4s\n",
      "[CV] n_estimators=700, min_samples_split=15, min_samples_leaf=1, max_features=auto, max_depth=20 \n",
      "[CV]  n_estimators=700, min_samples_split=15, min_samples_leaf=1, max_features=auto, max_depth=20, total=  13.4s\n",
      "[CV] n_estimators=700, min_samples_split=15, min_samples_leaf=1, max_features=auto, max_depth=20 \n",
      "[CV]  n_estimators=700, min_samples_split=15, min_samples_leaf=1, max_features=auto, max_depth=20, total=  13.5s\n"
     ]
    },
    {
     "name": "stderr",
     "output_type": "stream",
     "text": [
      "[Parallel(n_jobs=1)]: Done  50 out of  50 | elapsed:  5.9min finished\n"
     ]
    },
    {
     "data": {
      "text/plain": [
       "RandomizedSearchCV(cv=5, error_score='raise-deprecating',\n",
       "                   estimator=RandomForestRegressor(bootstrap=True,\n",
       "                                                   criterion='mse',\n",
       "                                                   max_depth=None,\n",
       "                                                   max_features='auto',\n",
       "                                                   max_leaf_nodes=None,\n",
       "                                                   min_impurity_decrease=0.0,\n",
       "                                                   min_impurity_split=None,\n",
       "                                                   min_samples_leaf=1,\n",
       "                                                   min_samples_split=2,\n",
       "                                                   min_weight_fraction_leaf=0.0,\n",
       "                                                   n_estimators=10, n_jobs=None,\n",
       "                                                   oob_score=False,\n",
       "                                                   random_state=N...\n",
       "                   iid='warn', n_iter=10, n_jobs=1,\n",
       "                   param_distributions={'max_depth': [5, 10, 15, 20, 25, 30],\n",
       "                                        'max_features': ['auto', 'sqrt'],\n",
       "                                        'min_samples_leaf': [1, 2, 5, 10],\n",
       "                                        'min_samples_split': [2, 5, 10, 15,\n",
       "                                                              100],\n",
       "                                        'n_estimators': [100, 200, 300, 400,\n",
       "                                                         500, 600, 700, 800,\n",
       "                                                         900, 1000, 1100,\n",
       "                                                         1200]},\n",
       "                   pre_dispatch='2*n_jobs', random_state=42, refit=True,\n",
       "                   return_train_score=False, scoring='neg_mean_squared_error',\n",
       "                   verbose=2)"
      ]
     },
     "execution_count": 303,
     "metadata": {},
     "output_type": "execute_result"
    }
   ],
   "source": [
    "rf_random.fit(X_train,y_train)"
   ]
  },
  {
   "cell_type": "code",
   "execution_count": 304,
   "metadata": {},
   "outputs": [
    {
     "data": {
      "image/png": "[encoded data removed]",
      "text/plain": [
       "<Figure size 576x576 with 1 Axes>"
      ]
     },
     "metadata": {},
     "output_type": "display_data"
    }
   ],
   "source": [
    "prediction = rf_random.predict(X_test)\n",
    "plt.figure(figsize = (8,8))\n",
    "sns.distplot(y_test-prediction)\n",
    "plt.show()"
   ]
  },
  {
   "cell_type": "code",
   "execution_count": 305,
   "metadata": {},
   "outputs": [
    {
     "name": "stdout",
     "output_type": "stream",
     "text": [
      "MAE: 34.57082069414005\n",
      "MSE: 36063.64967489851\n",
      "RMSE: 189.90431715708442\n"
     ]
    }
   ],
   "source": [
    "print('MAE:',metrics.mean_absolute_error(y_test,prediction))\n",
    "print('MSE:',metrics.mean_squared_error(y_test,prediction))\n",
    "print('RMSE:',np.sqrt(metrics.mean_squared_error(y_test,prediction)))"
   ]
  },
  {
   "cell_type": "code",
   "execution_count": 306,
   "metadata": {},
   "outputs": [
    {
     "data": {
      "text/plain": [
       "0.9176751402831377"
      ]
     },
     "execution_count": 306,
     "metadata": {},
     "output_type": "execute_result"
    }
   ],
   "source": [
    "metrics.r2_score(y_test,prediction)"
   ]
  },
  {
   "cell_type": "code",
   "execution_count": 307,
   "metadata": {},
   "outputs": [],
   "source": [
    "from sklearn import metrics\n",
    "import pickle\n",
    "# open a file, where you ant to store the data\n",
    "file = open('shipment_rf.pkl', 'wb')\n",
    "\n",
    "# dump information to that file\n",
    "pickle.dump(rf_random, file)"
   ]
  },
  {
   "cell_type": "code",
   "execution_count": 308,
   "metadata": {},
   "outputs": [],
   "source": [
    "model = open('shipment_rf.pkl','rb')\n",
    "forest = pickle.load(model)\n",
    "y_prediction = forest.predict(X_test)"
   ]
  },
  {
   "cell_type": "code",
   "execution_count": 309,
   "metadata": {},
   "outputs": [
    {
     "data": {
      "text/plain": [
       "0.9176751402831377"
      ]
     },
     "execution_count": 309,
     "metadata": {},
     "output_type": "execute_result"
    }
   ],
   "source": [
    "metrics.r2_score(y_test,y_prediction)"
   ]
  }
 ],
 "metadata": {
  "kernelspec": {
   "display_name": "Python 3",
   "language": "python",
   "name": "python3"
  },
  "language_info": {
   "codemirror_mode": {
    "name": "ipython",
    "version": 3
   },
   "file_extension": ".py",
   "mimetype": "text/x-python",
   "name": "python",
   "nbconvert_exporter": "python",
   "pygments_lexer": "ipython3",
   "version": "3.7.4"
  }
 },
 "nbformat": 4,
 "nbformat_minor": 2
}
